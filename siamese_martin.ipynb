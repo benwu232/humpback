{
 "cells": [
  {
   "cell_type": "markdown",
   "metadata": {},
   "source": [
    "## This is my attempt to use martin's data creation technique and then put it in Siamene Network using Fast AI. I am using following links for this:\n",
    "https://www.kaggle.com/martinpiotte/whale-recognition-model-with-score-0-78563/output\n",
    "https://github.com/radekosmulski/whale/blob/master/siamese_network_prototype.ipynb"
   ]
  },
  {
   "cell_type": "code",
   "execution_count": 1,
   "metadata": {},
   "outputs": [],
   "source": [
    "# Suppress annoying stderr output when importing keras.\n",
    "import sys\n",
    "import platform\n",
    "old_stderr = sys.stderr\n",
    "sys.stderr = open('/dev/null' if platform.system() != 'Windows' else 'nul', 'w')\n",
    "\n",
    "sys.stderr = old_stderr\n",
    "\n",
    "import random\n",
    "from scipy.ndimage import affine_transform\n",
    "\n",
    "import pickle\n",
    "import numpy as np\n",
    "from math import sqrt\n",
    "\n",
    "# Determise the size of each image\n",
    "from os.path import isfile\n",
    "from PIL import Image as pil_image\n",
    "from tqdm import tqdm_notebook\n",
    "\n",
    "from pandas import read_csv\n",
    "import pandas as pd\n",
    "from pathlib import Path"
   ]
  },
  {
   "cell_type": "code",
   "execution_count": 2,
   "metadata": {},
   "outputs": [],
   "source": [
    "root_path = Path('../input')\n",
    "train_path = root_path/'train_224'\n",
    "test_path = root_path/'test_224'"
   ]
  },
  {
   "cell_type": "code",
   "execution_count": 3,
   "metadata": {},
   "outputs": [],
   "source": [
    "name = f'siamese_resnet50_224'\n",
    "\n",
    "#arch = models.resnet50\n",
    "SZ = 224\n",
    "BS = 24\n",
    "NUM_WORKERS = 6\n",
    "SEED=0"
   ]
  },
  {
   "cell_type": "code",
   "execution_count": 4,
   "metadata": {},
   "outputs": [],
   "source": [
    "df = pd.read_csv(root_path/'train.csv')\n",
    "im_count = df[df.Id != 'new_whale'].Id.value_counts()\n",
    "im_count.name = 'sighting_count'\n",
    "df = df.join(im_count, on='Id')"
   ]
  },
  {
   "cell_type": "markdown",
   "metadata": {},
   "source": [
    "For training data, we are taking all the images except for the category - New Whale"
   ]
  },
  {
   "cell_type": "code",
   "execution_count": 5,
   "metadata": {},
   "outputs": [
    {
     "name": "stdout",
     "output_type": "stream",
     "text": [
      "shape of data for training  (15697, 3)\n"
     ]
    },
    {
     "name": "stderr",
     "output_type": "stream",
     "text": [
      "/home/wb/.pyenv/versions/anaconda3-5.3.1/lib/python3.7/site-packages/pandas/core/frame.py:3697: SettingWithCopyWarning: \n",
      "A value is trying to be set on a copy of a slice from a DataFrame\n",
      "\n",
      "See the caveats in the documentation: http://pandas.pydata.org/pandas-docs/stable/indexing.html#indexing-view-versus-copy\n",
      "  errors=errors)\n"
     ]
    },
    {
     "data": {
      "text/html": [
       "<div>\n",
       "<style scoped>\n",
       "    .dataframe tbody tr th:only-of-type {\n",
       "        vertical-align: middle;\n",
       "    }\n",
       "\n",
       "    .dataframe tbody tr th {\n",
       "        vertical-align: top;\n",
       "    }\n",
       "\n",
       "    .dataframe thead th {\n",
       "        text-align: right;\n",
       "    }\n",
       "</style>\n",
       "<table border=\"1\" class=\"dataframe\">\n",
       "  <thead>\n",
       "    <tr style=\"text-align: right;\">\n",
       "      <th></th>\n",
       "      <th>Image</th>\n",
       "      <th>Id</th>\n",
       "    </tr>\n",
       "  </thead>\n",
       "  <tbody>\n",
       "    <tr>\n",
       "      <th>0</th>\n",
       "      <td>0000e88ab.jpg</td>\n",
       "      <td>w_f48451c</td>\n",
       "    </tr>\n",
       "    <tr>\n",
       "      <th>1</th>\n",
       "      <td>0001f9222.jpg</td>\n",
       "      <td>w_c3d896a</td>\n",
       "    </tr>\n",
       "  </tbody>\n",
       "</table>\n",
       "</div>"
      ],
      "text/plain": [
       "           Image         Id\n",
       "0  0000e88ab.jpg  w_f48451c\n",
       "1  0001f9222.jpg  w_c3d896a"
      ]
     },
     "execution_count": 5,
     "metadata": {},
     "output_type": "execute_result"
    }
   ],
   "source": [
    "new_df = df[df['Id']!= 'new_whale']\n",
    "#new_df = new_df[new_df['sighting_count']>1]\n",
    "\n",
    "print('shape of data for training ',new_df.shape)\n",
    "new_df.drop(columns = ['sighting_count'] , inplace=True)\n",
    "new_df.head(2)"
   ]
  },
  {
   "cell_type": "code",
   "execution_count": 6,
   "metadata": {},
   "outputs": [
    {
     "name": "stderr",
     "output_type": "stream",
     "text": [
      "/home/wb/.pyenv/versions/anaconda3-5.3.1/lib/python3.7/site-packages/pandas/core/frame.py:3697: SettingWithCopyWarning: \n",
      "A value is trying to be set on a copy of a slice from a DataFrame\n",
      "\n",
      "See the caveats in the documentation: http://pandas.pydata.org/pandas-docs/stable/indexing.html#indexing-view-versus-copy\n",
      "  errors=errors)\n"
     ]
    },
    {
     "data": {
      "text/html": [
       "<div>\n",
       "<style scoped>\n",
       "    .dataframe tbody tr th:only-of-type {\n",
       "        vertical-align: middle;\n",
       "    }\n",
       "\n",
       "    .dataframe tbody tr th {\n",
       "        vertical-align: top;\n",
       "    }\n",
       "\n",
       "    .dataframe thead th {\n",
       "        text-align: right;\n",
       "    }\n",
       "</style>\n",
       "<table border=\"1\" class=\"dataframe\">\n",
       "  <thead>\n",
       "    <tr style=\"text-align: right;\">\n",
       "      <th></th>\n",
       "      <th>Image</th>\n",
       "      <th>Id</th>\n",
       "    </tr>\n",
       "  </thead>\n",
       "  <tbody>\n",
       "    <tr>\n",
       "      <th>15694</th>\n",
       "      <td>fff7faf61.jpg</td>\n",
       "      <td>w_9cf0388</td>\n",
       "    </tr>\n",
       "    <tr>\n",
       "      <th>15695</th>\n",
       "      <td>fff9002e0.jpg</td>\n",
       "      <td>w_bd1c3d5</td>\n",
       "    </tr>\n",
       "    <tr>\n",
       "      <th>15696</th>\n",
       "      <td>fffcde6fe.jpg</td>\n",
       "      <td>w_9f30885</td>\n",
       "    </tr>\n",
       "  </tbody>\n",
       "</table>\n",
       "</div>"
      ],
      "text/plain": [
       "               Image         Id\n",
       "15694  fff7faf61.jpg  w_9cf0388\n",
       "15695  fff9002e0.jpg  w_bd1c3d5\n",
       "15696  fffcde6fe.jpg  w_9f30885"
      ]
     },
     "execution_count": 6,
     "metadata": {},
     "output_type": "execute_result"
    }
   ],
   "source": [
    "new_df.reset_index(inplace=True)\n",
    "new_df.drop(columns='index' , inplace=True)\n",
    "new_df.tail(3)"
   ]
  },
  {
   "cell_type": "code",
   "execution_count": 7,
   "metadata": {},
   "outputs": [
    {
     "data": {
      "text/plain": [
       "rec.array([(    0, '0000e88ab.jpg', 'w_f48451c'),\n",
       "           (    1, '0001f9222.jpg', 'w_c3d896a'),\n",
       "           (    2, '00029d126.jpg', 'w_20df2c5'), ...,\n",
       "           (15694, 'fff7faf61.jpg', 'w_9cf0388'),\n",
       "           (15695, 'fff9002e0.jpg', 'w_bd1c3d5'),\n",
       "           (15696, 'fffcde6fe.jpg', 'w_9f30885')],\n",
       "          dtype=[('index', '<i8'), ('Image', 'O'), ('Id', 'O')])"
      ]
     },
     "execution_count": 7,
     "metadata": {},
     "output_type": "execute_result"
    }
   ],
   "source": [
    "new_df.to_records()"
   ]
  },
  {
   "cell_type": "code",
   "execution_count": 8,
   "metadata": {},
   "outputs": [],
   "source": [
    "\"\"\"\n",
    "The data set we are using for training contains all images except of new whales.\n",
    "we don't require creating phase values for this  datasets , as duplicate images are very few.\n",
    "i am using index present in train.csv as the phase value as we can use it for indexing very easily \n",
    "\"\"\"\n",
    "\n",
    "tagged = dict([(p,w) for _,p,w in new_df.to_records()])\n",
    "h2ps = dict([(idx , p ) for   idx,p,w in new_df.to_records()])\n",
    "p2h   = dict([(p , idx) for idx , p , w in new_df.to_records()])\n",
    "h2p = h2ps.copy()\n",
    "join = tagged.copy()"
   ]
  },
  {
   "cell_type": "code",
   "execution_count": 9,
   "metadata": {},
   "outputs": [
    {
     "data": {
      "application/vnd.jupyter.widget-view+json": {
       "model_id": "c82124f0da6b43eba7c5f9814b6a62e0",
       "version_major": 2,
       "version_minor": 0
      },
      "text/plain": [
       "HBox(children=(IntProgress(value=0, max=15697), HTML(value='')))"
      ]
     },
     "metadata": {},
     "output_type": "display_data"
    },
    {
     "name": "stdout",
     "output_type": "stream",
     "text": [
      "\n"
     ]
    },
    {
     "data": {
      "text/plain": [
       "(15697,\n",
       " [('0000e88ab.jpg', (224, 224)),\n",
       "  ('0001f9222.jpg', (224, 224)),\n",
       "  ('00029d126.jpg', (224, 224)),\n",
       "  ('000a6daec.jpg', (224, 224)),\n",
       "  ('0016b897a.jpg', (224, 224))])"
      ]
     },
     "execution_count": 9,
     "metadata": {},
     "output_type": "execute_result"
    }
   ],
   "source": [
    "def expand_path(p):\n",
    "    if isfile(train_path/p): \n",
    "        return train_path/p\n",
    "    if isfile(test_path/p): \n",
    "        return test_path/p\n",
    "    return p\n",
    "\n",
    "p2size = {}\n",
    "for p in tqdm_notebook(join):\n",
    "    size      = pil_image.open(expand_path(p)).size\n",
    "    p2size[p] = size\n",
    "len(p2size), list(p2size.items())[:5]"
   ]
  },
  {
   "cell_type": "code",
   "execution_count": 10,
   "metadata": {},
   "outputs": [
    {
     "data": {
      "text/plain": [
       "15697"
      ]
     },
     "execution_count": 10,
     "metadata": {},
     "output_type": "execute_result"
    }
   ],
   "source": [
    "## phase value for all categories except new whale\n",
    "h2ws = {}\n",
    "new_whale = 'new_whale'\n",
    "for p,w in tagged.items():\n",
    "    if w != new_whale: # Use only identified whales\n",
    "        h = p2h[p]\n",
    "        if h not in h2ws: h2ws[h] = []\n",
    "        if w not in h2ws[h]: h2ws[h].append(w)\n",
    "for h,ws in h2ws.items():\n",
    "    if len(ws) > 1:\n",
    "        h2ws[h] = sorted(ws)\n",
    "len(h2ws)"
   ]
  },
  {
   "cell_type": "code",
   "execution_count": 11,
   "metadata": {},
   "outputs": [
    {
     "data": {
      "text/plain": [
       "5004"
      ]
     },
     "execution_count": 11,
     "metadata": {},
     "output_type": "execute_result"
    }
   ],
   "source": [
    "## for each whale category, observe the associated phase values , \n",
    "##store all whale categories even the categories with just one image ( this is  different from martin's approach)\n",
    "\n",
    "w2hs = {}\n",
    "for h,ws in h2ws.items():\n",
    "    if len(ws) == 1: # Use only unambiguous pictures\n",
    "\n",
    "        w = ws[0]\n",
    "        if w not in w2hs: w2hs[w] = []\n",
    "        if h not in w2hs[w]: w2hs[w].append(h)\n",
    "for w,hs in w2hs.items():\n",
    "    #if len(hs) > 1:\n",
    "        w2hs[w] = sorted(hs)\n",
    "len(w2hs)"
   ]
  },
  {
   "cell_type": "code",
   "execution_count": 12,
   "metadata": {},
   "outputs": [
    {
     "data": {
      "text/plain": [
       "15697"
      ]
     },
     "execution_count": 12,
     "metadata": {},
     "output_type": "execute_result"
    }
   ],
   "source": [
    "len(h2ws)"
   ]
  },
  {
   "cell_type": "code",
   "execution_count": 13,
   "metadata": {},
   "outputs": [],
   "source": [
    "def read_raw_image(p):\n",
    "    img = pil_image.open(expand_path(p))\n",
    "    return img\n",
    "\n",
    "\n",
    "import matplotlib.pyplot as plt\n"
   ]
  },
  {
   "cell_type": "code",
   "execution_count": 14,
   "metadata": {},
   "outputs": [],
   "source": [
    "train = [] # A list of  indices of images to be used in training data.\n",
    "for hs in w2hs.values():\n",
    "    if len(hs) >= 1:\n",
    "        train += hs\n",
    "random.shuffle(train)\n",
    "train_set = set(train)"
   ]
  },
  {
   "cell_type": "code",
   "execution_count": 15,
   "metadata": {},
   "outputs": [
    {
     "data": {
      "text/plain": [
       "(15697, 5004)"
      ]
     },
     "execution_count": 15,
     "metadata": {},
     "output_type": "execute_result"
    }
   ],
   "source": [
    "## we have whales categories with phases(images) more than 1. shuffle the phase values now.\n",
    "w2ts = {} #Associate the image index from train to each whale id.\n",
    "for w,hs in w2hs.items():\n",
    "    for h in hs:\n",
    "        if h in train_set:\n",
    "            if w not in w2ts: w2ts[w] = []\n",
    "            if h not in w2ts[w]: w2ts[w].append(h)\n",
    "for w,ts in w2ts.items(): w2ts[w] = np.array(ts)\n",
    "## then again for each whale categories see how many images you have , \n",
    "## you are working with 5004 whale categories and 15697 images \n",
    "    \n",
    "    \n",
    "t2i = {} # The position in train of each training image id\n",
    "for i,t in enumerate(train): t2i[t] = i\n",
    "\n",
    "len(train),len(w2ts)"
   ]
  },
  {
   "cell_type": "code",
   "execution_count": 16,
   "metadata": {},
   "outputs": [],
   "source": [
    "# from keras.utils import Sequence\n",
    "# import keras\n",
    "\n",
    "from IPython.core.debugger import set_trace\n",
    "import random\n",
    "#from keras import backend as K\n",
    "\n",
    "try:\n",
    "    from lapjv import lapjv\n",
    "    segment = False\n",
    "except ImportError:\n",
    "    print('Module lap not found, emulating with much slower scipy.optimize.linear_sum_assignment')\n",
    "    segment = True\n",
    "    from scipy.optimize import linear_sum_assignment\n"
   ]
  },
  {
   "cell_type": "markdown",
   "metadata": {},
   "source": [
    "Import functions from fast ai library"
   ]
  },
  {
   "cell_type": "code",
   "execution_count": 17,
   "metadata": {},
   "outputs": [],
   "source": [
    "%matplotlib inline\n",
    "import matplotlib.pyplot as plt\n",
    "from fastai.vision import *\n",
    "from fastai.metrics import accuracy_thresh\n",
    "from fastai.basic_data import *\n",
    "from torch.utils.data import DataLoader, Dataset\n",
    "from torch import nn\n",
    "from fastai.callbacks.hooks import num_features_model, model_sizes\n",
    "from fastai.layers import BCEWithLogitsFlat\n",
    "from fastai.basic_train import Learner\n",
    "from skimage.util import montage\n",
    "import pandas as pd\n",
    "from torch import optim\n",
    "import re\n",
    "\n",
    "from utils import *\n",
    "\n",
    "from IPython.core.debugger import set_trace\n",
    "from functional import seq\n"
   ]
  },
  {
   "cell_type": "code",
   "execution_count": 18,
   "metadata": {},
   "outputs": [],
   "source": [
    "\n",
    "fn2label = {row[1].Image: row[1].Id for row in df.iterrows()}  #new_\n",
    "path2fn = lambda path: re.search('\\w*\\.jpg$', path).group(0)\n"
   ]
  },
  {
   "cell_type": "markdown",
   "metadata": {},
   "source": [
    "Creating dataset for all the training images. Because of some reason , i am not able to create validation set as well ( produces error while indexing from match and unmatch matrices. If someone is able to find the work arounf the help will be appreciated"
   ]
  },
  {
   "cell_type": "code",
   "execution_count": 19,
   "metadata": {},
   "outputs": [],
   "source": [
    "classes = df.Id.unique()\n",
    "data = (\n",
    "    ImageItemList  ##df[(df.Id != 'new_whale') & (df.sighting_count >1)]\n",
    "        .from_df( df[(df.Id != 'new_whale')], train_path, cols=['Image'])\n",
    "        .no_split()##split_by_valid_func(lambda path: path2fn(path) in val_fns) \n",
    "        .label_from_func(lambda path: fn2label[path2fn(path)] ,  classes=classes)\n",
    "        .add_test(ImageItemList.from_folder(test_path))\n",
    "        .transform(get_transforms(do_flip=False), size=SZ, resize_method=ResizeMethod.SQUISH))"
   ]
  },
  {
   "cell_type": "code",
   "execution_count": 20,
   "metadata": {},
   "outputs": [
    {
     "name": "stdout",
     "output_type": "stream",
     "text": [
      "15697\n",
      "15697\n",
      "1\n"
     ]
    }
   ],
   "source": [
    "print(len(train))\n",
    "print(len(data.train.x))\n",
    "print(len(data.valid.x))"
   ]
  },
  {
   "cell_type": "code",
   "execution_count": 21,
   "metadata": {},
   "outputs": [],
   "source": [
    "from IPython.core.debugger import set_trace\n",
    "import random\n",
    "\n",
    "# First try to use lapjv Linear Assignment Problem solver as it is much faster.\n",
    "# At the time I am writing this, kaggle kernel with custom package fail to commit.\n",
    "# scipy can be used as a fallback, but it is too slow to run this kernel under the time limit\n",
    "# As a workaround, use scipy with data partitioning.\n",
    "# Because algorithm is O(n^3), small partitions are much faster, but not what produced the submitted solution\n",
    "try:\n",
    "    from lapjv import lapjv\n",
    "    segment = False\n",
    "except ImportError:\n",
    "    print('Module lap not found, emulating with much slower scipy.optimize.linear_sum_assignment')\n",
    "    segment = True\n",
    "    from scipy.optimize import linear_sum_assignment\n"
   ]
  },
  {
   "cell_type": "markdown",
   "metadata": {},
   "source": [
    "TwoImDataset creation is the part where I am trying to replicate 'TrainingData Class' from https://www.kaggle.com/martinpiotte/whale-recognition-model-with-score-0-78563/output\n",
    "For whale categories having just one images in training data , matching pair -  same image pair (A,A) . For other categories it creates a de arrangement.  "
   ]
  },
  {
   "cell_type": "code",
   "execution_count": 22,
   "metadata": {},
   "outputs": [
    {
     "data": {
      "text/plain": [
       "0.6257661821573555"
      ]
     },
     "execution_count": 22,
     "metadata": {},
     "output_type": "execute_result"
    }
   ],
   "source": [
    "np.random.random()"
   ]
  },
  {
   "cell_type": "code",
   "execution_count": 23,
   "metadata": {},
   "outputs": [],
   "source": [
    "import pdb\n",
    "def is_even(num): return num % 2 == 0\n",
    "\n",
    "class TwoImDataset(Dataset):\n",
    "    def __init__(self, ds, score, steps = 1000):\n",
    "        self.ds = ds\n",
    "        self.whale_ids = ds.y.items\n",
    "        self.steps =1000\n",
    "        self.score  = -score\n",
    "        for ts in w2ts.values():\n",
    "            idxs =  ts.copy() #[t2i[t] for t in ts]\n",
    "            #idxs = [i for i in  idxs if i <score.shape[0]]\n",
    "            for i in idxs:\n",
    "                for j in idxs:\n",
    "                    self.score[i,j] = 10000.0   # Set a large value for matching\n",
    "        self.epsilon = 1.0\n",
    "        self.on_epoch_end()\n",
    "        \n",
    "    def set_epsilon(self, epsilon=1.0):\n",
    "        self.epsilon = epsilon\n",
    "        \n",
    "    def __len__(self):\n",
    "        return 2 * len(self.ds)\n",
    "\n",
    "    def __getitem__(self, idx):\n",
    "        prob = np.random.random()\n",
    "        choice = idx % 2 == 0\n",
    "        if choice:\n",
    "            idx //=2\n",
    "        else:\n",
    "            idx = (idx - 1) // 2\n",
    "        \n",
    "        if prob < self.epsilon: \n",
    "            return self.sample_random(idx, choice)\n",
    "        else:\n",
    "            return self.sample_policy(idx, choice)\n",
    "                \n",
    "    def sample_random(self, idx, choice):\n",
    "        if choice:\n",
    "            return self.sample_same(idx)\n",
    "        else: return self.sample_different(idx)\n",
    "\n",
    "    def sample_same(self, idx):\n",
    "        whale_id = self.whale_ids[idx]        \n",
    "        candidates = list(np.where(self.whale_ids == whale_id)[0])\n",
    "        candidates.remove(idx) # dropping our current whale - we don't want to compare against an identical image!\n",
    "        \n",
    "        if len(candidates) == 0: # oops, there is only a single whale with this id in the dataset\n",
    "            return self.sample_different(idx)\n",
    "        \n",
    "        np.random.shuffle(candidates)\n",
    "        return self.construct_example(self.ds[idx][0], self.ds[candidates[0]][0], 1)\n",
    "    \n",
    "    def sample_different(self, idx):\n",
    "        whale_id = self.whale_ids[idx]\n",
    "        candidates = list(np.where(self.whale_ids != whale_id)[0])\n",
    "        np.random.shuffle(candidates)\n",
    "        return self.construct_example(self.ds[idx][0], self.ds[candidates[0]][0], 0)\n",
    "  \n",
    "    def sample_policy(self, idx , tag):\n",
    "        #set_trace()\n",
    "        if tag==0:\n",
    "            first_image_id =  self.match[idx][0]\n",
    "            second_image_id = self.match[idx][1]\n",
    "            #if first_image_id < len(self.ds) and second_image_id< len(self.ds):         \n",
    "            return self.construct_example(self.ds[first_image_id][0], self.ds[second_image_id][0], 1)\n",
    "        else:\n",
    "            first_image_id =  self.unmatch[idx][0]\n",
    "            second_image_id = self.unmatch[idx][1]     \n",
    "            return self.construct_example(self.ds[first_image_id][0], self.ds[second_image_id][0], 0)\n",
    "  \n",
    "    def on_epoch_end(self):\n",
    "        if self.steps <= 0: return # Skip this on the last epoch.\n",
    "        self.steps     -= 1\n",
    "        self.match      = []\n",
    "        self.unmatch    = []\n",
    "        if segment:\n",
    "            tmp   = []\n",
    "            batch = 512\n",
    "            for start in range(0, score.shape[0], batch):\n",
    "                end = min(score.shape[0], start + batch)\n",
    "                _, x = linear_sum_assignment(self.score[start:end, start:end])\n",
    "                tmp.append(x + start)\n",
    "            x = np.concatenate(tmp)\n",
    "        else:\n",
    "            #print('using lapjv')\n",
    "            x,_,_ = lapjv(self.score) # Solve the linear assignment problem\n",
    "        y = np.arange(len(x),dtype=np.int32)\n",
    "\n",
    "        # Compute a derangement for matching whales\n",
    "        for ts in w2ts.values():\n",
    "            d = ts.copy()\n",
    "            if (len(d)==1):\n",
    "                for ab in zip(ts,d): self.match.append(ab)\n",
    "            else:                \n",
    "                while True:\n",
    "                    random.shuffle(d)\n",
    "                    if not np.any(ts == d): break\n",
    "                for ab in zip(ts,d): self.match.append(ab)\n",
    "\n",
    "        # Construct unmatched whale pairs from the LAP solution.\n",
    "        for i,j in zip(x,y):\n",
    "            if i == j:\n",
    "                print(self.score)\n",
    "                print(x)\n",
    "                print(y)\n",
    "                print(i,j)\n",
    "            assert i != j\n",
    "            self.unmatch.append((train[i],train[j]))\n",
    "\n",
    "        # Force a different choice for an eventual next epoch.\n",
    "        self.score[x,y] = 10000.0\n",
    "        self.score[y,x] = 10000.0\n",
    "        random.shuffle(self.match)\n",
    "        random.shuffle(self.unmatch)\n",
    "        print('end of epoch, math',self.match[0][0])\n",
    "        print('end of epoch, unmatch',self.unmatch[0][0])\n",
    "        \n",
    "        print(len(self.match), len(train), len(self.unmatch), len(train))\n",
    "        #assert len(self.match) == len(train) and len(self.unmatch) == len(train)\n",
    "    \n",
    "    def construct_example(self, im_A, im_B, class_idx):\n",
    "        return [im_A, im_B], class_idx"
   ]
  },
  {
   "cell_type": "code",
   "execution_count": 24,
   "metadata": {
    "scrolled": true
   },
   "outputs": [
    {
     "name": "stdout",
     "output_type": "stream",
     "text": [
      "end of epoch, math 6142\n",
      "end of epoch, unmatch 3257\n",
      "15697 15697 15697 15697\n"
     ]
    }
   ],
   "source": [
    "\"\"\"\n",
    "Create a 2D score matrix of size of training data\n",
    "\"\"\"\n",
    "\n",
    "score = np.random.random_sample(size=(len(train),len(train)))\n",
    "\n",
    "train_dl = DataLoader(\n",
    "    TwoImDataset(data.train , score),\n",
    "    batch_size=BS,\n",
    "    shuffle=True,\n",
    "    num_workers=NUM_WORKERS\n",
    ")\n"
   ]
  },
  {
   "cell_type": "code",
   "execution_count": 25,
   "metadata": {},
   "outputs": [],
   "source": [
    "def normalize_batch(batch):\n",
    "    stat_tensors = [torch.tensor(l).cuda() for l in imagenet_stats]\n",
    "    return [normalize(batch[0][0], *stat_tensors), normalize(batch[0][1], *stat_tensors)], batch[1]"
   ]
  },
  {
   "cell_type": "code",
   "execution_count": 26,
   "metadata": {},
   "outputs": [],
   "source": [
    "data_bunch = ImageDataBunch(train_dl , train_dl) ##, valid_dl\n",
    "data_bunch.add_tfm(normalize_batch)"
   ]
  },
  {
   "cell_type": "code",
   "execution_count": 27,
   "metadata": {},
   "outputs": [],
   "source": [
    "\"\"\"\n",
    "The netowrk architecture is also inspired from Martin's notebook (part after we extract features for two image pairs)\n",
    "\"\"\"\n",
    "class SiameseNetwork(nn.Module):\n",
    "    def __init__(self, arch=models.resnet50):\n",
    "        super().__init__() \n",
    "        \n",
    "        self.cnn = create_body(arch)\n",
    "        self.head = nn.Linear(num_features_model(self.cnn), 1)  #\n",
    "        \n",
    "        self.conv1 = nn.Conv2d(1 , 32 , kernel_size= (1 , 4) , padding = 0 ,stride=1)\n",
    "        self.conv2 = nn.Conv2d( 1 , 1 , kernel_size = (32 ,1 ) , padding = 0  , stride=1)\n",
    "        self.dropout = nn.Dropout(0.5)\n",
    "\n",
    "    def forward(self, im_A, im_B):\n",
    "        x1, x2 = seq(im_A, im_B).map(self.cnn).map(self.process_features)\n",
    "        d1 = self.calculate_distance(x1, x2)\n",
    "        d2 = (x1 + x2)\n",
    "        d3 = (x1*x2)\n",
    "        d4 = (x1-x2)*(x1 - x2)\n",
    "        concat_layer = torch.cat([d1 ,d2,d3, d4]  ,dim = 1)\n",
    "        concat_layer = concat_layer.view( - 1, 1, num_features_model(self.cnn) , 4)   ## no of channels is second dimension\n",
    "        concat_layer  = F.relu(self.conv1(concat_layer))\n",
    "        concat_layer = concat_layer.view(-1 ,1,32, num_features_model(self.cnn))\n",
    "        concat_layer = F.relu(self.conv2(concat_layer))\n",
    "        concat_layer_fn = concat_layer.view(-1 ,num_features_model(self.cnn))\n",
    "        dropt = self.dropout(concat_layer_fn)\n",
    "        out = self.head(dropt)\n",
    "        return out\n",
    "    \n",
    "    def process_features(self, x): \n",
    "        y = x.reshape(*x.shape[:2], -1)\n",
    "        return x.reshape(*x.shape[:2], -1).max(-1)[0]\n",
    "    def calculate_distance(self, x1, x2): return (x1 - x2).abs_()"
   ]
  },
  {
   "cell_type": "code",
   "execution_count": 28,
   "metadata": {},
   "outputs": [],
   "source": [
    "learn = Learner(data_bunch, SiameseNetwork(), \n",
    "                loss_func=BCEWithLogitsFlat(), \n",
    "                wd=0.01,\n",
    "                metrics=[lambda preds, targs: accuracy_thresh(preds.squeeze(), targs, sigmoid=False)])"
   ]
  },
  {
   "cell_type": "code",
   "execution_count": 29,
   "metadata": {},
   "outputs": [],
   "source": [
    "def linear_schedule(step, pars):\n",
    "    \"Linearly output value, end_step must greater than start_step\"\n",
    "    start_value = pars[0]\n",
    "    end_value = pars[1]\n",
    "    start_step = pars[2]\n",
    "    end_step = pars[3]\n",
    "    assert start_step <= end_step\n",
    "\n",
    "    if step < start_step:\n",
    "        return start_value\n",
    "    elif step >= end_step:\n",
    "        return end_value\n",
    "    return start_value - (step - start_step) * (start_value - end_value) / (end_step - start_step)\n"
   ]
  },
  {
   "cell_type": "code",
   "execution_count": 30,
   "metadata": {},
   "outputs": [
    {
     "data": {
      "text/plain": [
       "1.0"
      ]
     },
     "execution_count": 30,
     "metadata": {},
     "output_type": "execute_result"
    }
   ],
   "source": [
    "linear_decay = partial(linear_schedule, pars=(1.0, 0.05, 2, 12))\n",
    "linear_decay(0)"
   ]
  },
  {
   "cell_type": "code",
   "execution_count": 31,
   "metadata": {},
   "outputs": [],
   "source": [
    "class DataloaderCallback(fastai.callbacks.tracker.TrackerCallback):\n",
    "    def __init__(self, learn, schedule_pars=(1.0, 0.05, 0, 10)):\n",
    "        super().__init__(learn)\n",
    "        self.schedule = partial(linear_schedule, pars=schedule_pars)\n",
    "        \n",
    "    #def on_batch_end(self, last_loss, epoch, num_batch, **kwargs: Any) -> None:\n",
    "    def on_epoch_begin(self, epoch, **kwargs: Any) -> None:\n",
    "        epsilon = self.schedule(epoch)\n",
    "        self.learn.data.train_ds.set_epsilon(epsilon)\n",
    "        self.learn.data.train_ds.on_epoch_end()\n",
    "\n"
   ]
  },
  {
   "cell_type": "code",
   "execution_count": 32,
   "metadata": {},
   "outputs": [],
   "source": [
    "learn.split([learn.model.cnn[:6], learn.model.cnn[6:], learn.model.head])\n",
    "learn.freeze_to(-1)"
   ]
  },
  {
   "cell_type": "code",
   "execution_count": null,
   "metadata": {
    "scrolled": true
   },
   "outputs": [],
   "source": [
    "learn.lr_find()\n",
    "learn.recorder.plot()"
   ]
  },
  {
   "cell_type": "code",
   "execution_count": null,
   "metadata": {},
   "outputs": [],
   "source": [
    "cb_dl = DataloaderCallback(learn, schedule_pars=(1.0, 0.05, 0, 10))\n",
    "cbs = [cb_dl]"
   ]
  },
  {
   "cell_type": "code",
   "execution_count": null,
   "metadata": {
    "scrolled": true
   },
   "outputs": [],
   "source": [
    "learn.fit_one_cycle(4 , 1e-3, callbacks=cbs)"
   ]
  },
  {
   "cell_type": "code",
   "execution_count": null,
   "metadata": {},
   "outputs": [],
   "source": [
    "learn.unfreeze()"
   ]
  },
  {
   "cell_type": "code",
   "execution_count": null,
   "metadata": {},
   "outputs": [],
   "source": [
    "max_lr = 3e-4\n",
    "lrs = [max_lr/100, max_lr/10, max_lr]"
   ]
  },
  {
   "cell_type": "code",
   "execution_count": null,
   "metadata": {},
   "outputs": [],
   "source": [
    "learn.fit_one_cycle(10, lrs, callbacks=cbs)\n",
    "learn.save(f'{name}-stage2_unfz')"
   ]
  },
  {
   "cell_type": "code",
   "execution_count": null,
   "metadata": {},
   "outputs": [],
   "source": [
    "learn.load(f'{name}-stage2_unfz');"
   ]
  },
  {
   "cell_type": "code",
   "execution_count": null,
   "metadata": {},
   "outputs": [],
   "source": [
    "learn.recorder.plot_losses()"
   ]
  },
  {
   "cell_type": "code",
   "execution_count": null,
   "metadata": {},
   "outputs": [],
   "source": [
    "cb_dl = DataloaderCallback(learn, schedule_pars=(0.05, 0.01, 0, 10))\n",
    "cbs = [cb_dl]"
   ]
  },
  {
   "cell_type": "code",
   "execution_count": null,
   "metadata": {},
   "outputs": [],
   "source": [
    "learn.fit_one_cycle(10, lrs, callbacks=cbs)\n",
    "learn.save(f'{name}-stage3_unfz')\n"
   ]
  },
  {
   "cell_type": "code",
   "execution_count": null,
   "metadata": {},
   "outputs": [],
   "source": [
    "learn.fit_one_cycle(10, lrs, callbacks=cbs)\n",
    "learn.save(f'{name}-stage4_unfz')\n"
   ]
  },
  {
   "cell_type": "code",
   "execution_count": null,
   "metadata": {},
   "outputs": [],
   "source": [
    "learn.fit_one_cycle(10, lrs, callbacks=cbs)\n",
    "learn.save(f'{name}-stage5_unfz')\n"
   ]
  },
  {
   "cell_type": "code",
   "execution_count": null,
   "metadata": {},
   "outputs": [],
   "source": [
    "learn.fit_one_cycle(10, lrs, callbacks=cbs)\n",
    "learn.save(f'{name}-stage6_unfz')\n"
   ]
  },
  {
   "cell_type": "code",
   "execution_count": null,
   "metadata": {},
   "outputs": [],
   "source": [
    "learn.fit_one_cycle(10, lrs, callbacks=cbs)\n",
    "learn.save(f'{name}-stage7_unfz')\n"
   ]
  },
  {
   "cell_type": "code",
   "execution_count": null,
   "metadata": {},
   "outputs": [],
   "source": [
    "learn.fit_one_cycle(10, lrs, callbacks=cbs)\n",
    "learn.save(f'{name}-stage8_unfz')\n"
   ]
  },
  {
   "cell_type": "code",
   "execution_count": null,
   "metadata": {},
   "outputs": [],
   "source": [
    "learn.fit_one_cycle(10, lrs, callbacks=cbs)\n",
    "learn.save(f'{name}-stage9_unfz')\n"
   ]
  },
  {
   "cell_type": "code",
   "execution_count": null,
   "metadata": {},
   "outputs": [],
   "source": [
    "learn.fit_one_cycle(10, lrs, callbacks=cbs)\n",
    "learn.save(f'{name}-stage10_unfz')\n"
   ]
  },
  {
   "cell_type": "code",
   "execution_count": null,
   "metadata": {},
   "outputs": [],
   "source": []
  },
  {
   "cell_type": "code",
   "execution_count": 55,
   "metadata": {},
   "outputs": [
    {
     "data": {
      "text/plain": [
       "SiameseNetwork(\n",
       "  (cnn): Sequential(\n",
       "    (0): Conv2d(3, 64, kernel_size=(7, 7), stride=(2, 2), padding=(3, 3), bias=False)\n",
       "    (1): BatchNorm2d(64, eps=1e-05, momentum=0.1, affine=True, track_running_stats=True)\n",
       "    (2): ReLU(inplace)\n",
       "    (3): MaxPool2d(kernel_size=3, stride=2, padding=1, dilation=1, ceil_mode=False)\n",
       "    (4): Sequential(\n",
       "      (0): Bottleneck(\n",
       "        (conv1): Conv2d(64, 64, kernel_size=(1, 1), stride=(1, 1), bias=False)\n",
       "        (bn1): BatchNorm2d(64, eps=1e-05, momentum=0.1, affine=True, track_running_stats=True)\n",
       "        (conv2): Conv2d(64, 64, kernel_size=(3, 3), stride=(1, 1), padding=(1, 1), bias=False)\n",
       "        (bn2): BatchNorm2d(64, eps=1e-05, momentum=0.1, affine=True, track_running_stats=True)\n",
       "        (conv3): Conv2d(64, 256, kernel_size=(1, 1), stride=(1, 1), bias=False)\n",
       "        (bn3): BatchNorm2d(256, eps=1e-05, momentum=0.1, affine=True, track_running_stats=True)\n",
       "        (relu): ReLU(inplace)\n",
       "        (downsample): Sequential(\n",
       "          (0): Conv2d(64, 256, kernel_size=(1, 1), stride=(1, 1), bias=False)\n",
       "          (1): BatchNorm2d(256, eps=1e-05, momentum=0.1, affine=True, track_running_stats=True)\n",
       "        )\n",
       "      )\n",
       "      (1): Bottleneck(\n",
       "        (conv1): Conv2d(256, 64, kernel_size=(1, 1), stride=(1, 1), bias=False)\n",
       "        (bn1): BatchNorm2d(64, eps=1e-05, momentum=0.1, affine=True, track_running_stats=True)\n",
       "        (conv2): Conv2d(64, 64, kernel_size=(3, 3), stride=(1, 1), padding=(1, 1), bias=False)\n",
       "        (bn2): BatchNorm2d(64, eps=1e-05, momentum=0.1, affine=True, track_running_stats=True)\n",
       "        (conv3): Conv2d(64, 256, kernel_size=(1, 1), stride=(1, 1), bias=False)\n",
       "        (bn3): BatchNorm2d(256, eps=1e-05, momentum=0.1, affine=True, track_running_stats=True)\n",
       "        (relu): ReLU(inplace)\n",
       "      )\n",
       "      (2): Bottleneck(\n",
       "        (conv1): Conv2d(256, 64, kernel_size=(1, 1), stride=(1, 1), bias=False)\n",
       "        (bn1): BatchNorm2d(64, eps=1e-05, momentum=0.1, affine=True, track_running_stats=True)\n",
       "        (conv2): Conv2d(64, 64, kernel_size=(3, 3), stride=(1, 1), padding=(1, 1), bias=False)\n",
       "        (bn2): BatchNorm2d(64, eps=1e-05, momentum=0.1, affine=True, track_running_stats=True)\n",
       "        (conv3): Conv2d(64, 256, kernel_size=(1, 1), stride=(1, 1), bias=False)\n",
       "        (bn3): BatchNorm2d(256, eps=1e-05, momentum=0.1, affine=True, track_running_stats=True)\n",
       "        (relu): ReLU(inplace)\n",
       "      )\n",
       "    )\n",
       "    (5): Sequential(\n",
       "      (0): Bottleneck(\n",
       "        (conv1): Conv2d(256, 128, kernel_size=(1, 1), stride=(1, 1), bias=False)\n",
       "        (bn1): BatchNorm2d(128, eps=1e-05, momentum=0.1, affine=True, track_running_stats=True)\n",
       "        (conv2): Conv2d(128, 128, kernel_size=(3, 3), stride=(2, 2), padding=(1, 1), bias=False)\n",
       "        (bn2): BatchNorm2d(128, eps=1e-05, momentum=0.1, affine=True, track_running_stats=True)\n",
       "        (conv3): Conv2d(128, 512, kernel_size=(1, 1), stride=(1, 1), bias=False)\n",
       "        (bn3): BatchNorm2d(512, eps=1e-05, momentum=0.1, affine=True, track_running_stats=True)\n",
       "        (relu): ReLU(inplace)\n",
       "        (downsample): Sequential(\n",
       "          (0): Conv2d(256, 512, kernel_size=(1, 1), stride=(2, 2), bias=False)\n",
       "          (1): BatchNorm2d(512, eps=1e-05, momentum=0.1, affine=True, track_running_stats=True)\n",
       "        )\n",
       "      )\n",
       "      (1): Bottleneck(\n",
       "        (conv1): Conv2d(512, 128, kernel_size=(1, 1), stride=(1, 1), bias=False)\n",
       "        (bn1): BatchNorm2d(128, eps=1e-05, momentum=0.1, affine=True, track_running_stats=True)\n",
       "        (conv2): Conv2d(128, 128, kernel_size=(3, 3), stride=(1, 1), padding=(1, 1), bias=False)\n",
       "        (bn2): BatchNorm2d(128, eps=1e-05, momentum=0.1, affine=True, track_running_stats=True)\n",
       "        (conv3): Conv2d(128, 512, kernel_size=(1, 1), stride=(1, 1), bias=False)\n",
       "        (bn3): BatchNorm2d(512, eps=1e-05, momentum=0.1, affine=True, track_running_stats=True)\n",
       "        (relu): ReLU(inplace)\n",
       "      )\n",
       "      (2): Bottleneck(\n",
       "        (conv1): Conv2d(512, 128, kernel_size=(1, 1), stride=(1, 1), bias=False)\n",
       "        (bn1): BatchNorm2d(128, eps=1e-05, momentum=0.1, affine=True, track_running_stats=True)\n",
       "        (conv2): Conv2d(128, 128, kernel_size=(3, 3), stride=(1, 1), padding=(1, 1), bias=False)\n",
       "        (bn2): BatchNorm2d(128, eps=1e-05, momentum=0.1, affine=True, track_running_stats=True)\n",
       "        (conv3): Conv2d(128, 512, kernel_size=(1, 1), stride=(1, 1), bias=False)\n",
       "        (bn3): BatchNorm2d(512, eps=1e-05, momentum=0.1, affine=True, track_running_stats=True)\n",
       "        (relu): ReLU(inplace)\n",
       "      )\n",
       "      (3): Bottleneck(\n",
       "        (conv1): Conv2d(512, 128, kernel_size=(1, 1), stride=(1, 1), bias=False)\n",
       "        (bn1): BatchNorm2d(128, eps=1e-05, momentum=0.1, affine=True, track_running_stats=True)\n",
       "        (conv2): Conv2d(128, 128, kernel_size=(3, 3), stride=(1, 1), padding=(1, 1), bias=False)\n",
       "        (bn2): BatchNorm2d(128, eps=1e-05, momentum=0.1, affine=True, track_running_stats=True)\n",
       "        (conv3): Conv2d(128, 512, kernel_size=(1, 1), stride=(1, 1), bias=False)\n",
       "        (bn3): BatchNorm2d(512, eps=1e-05, momentum=0.1, affine=True, track_running_stats=True)\n",
       "        (relu): ReLU(inplace)\n",
       "      )\n",
       "    )\n",
       "    (6): Sequential(\n",
       "      (0): Bottleneck(\n",
       "        (conv1): Conv2d(512, 256, kernel_size=(1, 1), stride=(1, 1), bias=False)\n",
       "        (bn1): BatchNorm2d(256, eps=1e-05, momentum=0.1, affine=True, track_running_stats=True)\n",
       "        (conv2): Conv2d(256, 256, kernel_size=(3, 3), stride=(2, 2), padding=(1, 1), bias=False)\n",
       "        (bn2): BatchNorm2d(256, eps=1e-05, momentum=0.1, affine=True, track_running_stats=True)\n",
       "        (conv3): Conv2d(256, 1024, kernel_size=(1, 1), stride=(1, 1), bias=False)\n",
       "        (bn3): BatchNorm2d(1024, eps=1e-05, momentum=0.1, affine=True, track_running_stats=True)\n",
       "        (relu): ReLU(inplace)\n",
       "        (downsample): Sequential(\n",
       "          (0): Conv2d(512, 1024, kernel_size=(1, 1), stride=(2, 2), bias=False)\n",
       "          (1): BatchNorm2d(1024, eps=1e-05, momentum=0.1, affine=True, track_running_stats=True)\n",
       "        )\n",
       "      )\n",
       "      (1): Bottleneck(\n",
       "        (conv1): Conv2d(1024, 256, kernel_size=(1, 1), stride=(1, 1), bias=False)\n",
       "        (bn1): BatchNorm2d(256, eps=1e-05, momentum=0.1, affine=True, track_running_stats=True)\n",
       "        (conv2): Conv2d(256, 256, kernel_size=(3, 3), stride=(1, 1), padding=(1, 1), bias=False)\n",
       "        (bn2): BatchNorm2d(256, eps=1e-05, momentum=0.1, affine=True, track_running_stats=True)\n",
       "        (conv3): Conv2d(256, 1024, kernel_size=(1, 1), stride=(1, 1), bias=False)\n",
       "        (bn3): BatchNorm2d(1024, eps=1e-05, momentum=0.1, affine=True, track_running_stats=True)\n",
       "        (relu): ReLU(inplace)\n",
       "      )\n",
       "      (2): Bottleneck(\n",
       "        (conv1): Conv2d(1024, 256, kernel_size=(1, 1), stride=(1, 1), bias=False)\n",
       "        (bn1): BatchNorm2d(256, eps=1e-05, momentum=0.1, affine=True, track_running_stats=True)\n",
       "        (conv2): Conv2d(256, 256, kernel_size=(3, 3), stride=(1, 1), padding=(1, 1), bias=False)\n",
       "        (bn2): BatchNorm2d(256, eps=1e-05, momentum=0.1, affine=True, track_running_stats=True)\n",
       "        (conv3): Conv2d(256, 1024, kernel_size=(1, 1), stride=(1, 1), bias=False)\n",
       "        (bn3): BatchNorm2d(1024, eps=1e-05, momentum=0.1, affine=True, track_running_stats=True)\n",
       "        (relu): ReLU(inplace)\n",
       "      )\n",
       "      (3): Bottleneck(\n",
       "        (conv1): Conv2d(1024, 256, kernel_size=(1, 1), stride=(1, 1), bias=False)\n",
       "        (bn1): BatchNorm2d(256, eps=1e-05, momentum=0.1, affine=True, track_running_stats=True)\n",
       "        (conv2): Conv2d(256, 256, kernel_size=(3, 3), stride=(1, 1), padding=(1, 1), bias=False)\n",
       "        (bn2): BatchNorm2d(256, eps=1e-05, momentum=0.1, affine=True, track_running_stats=True)\n",
       "        (conv3): Conv2d(256, 1024, kernel_size=(1, 1), stride=(1, 1), bias=False)\n",
       "        (bn3): BatchNorm2d(1024, eps=1e-05, momentum=0.1, affine=True, track_running_stats=True)\n",
       "        (relu): ReLU(inplace)\n",
       "      )\n",
       "      (4): Bottleneck(\n",
       "        (conv1): Conv2d(1024, 256, kernel_size=(1, 1), stride=(1, 1), bias=False)\n",
       "        (bn1): BatchNorm2d(256, eps=1e-05, momentum=0.1, affine=True, track_running_stats=True)\n",
       "        (conv2): Conv2d(256, 256, kernel_size=(3, 3), stride=(1, 1), padding=(1, 1), bias=False)\n",
       "        (bn2): BatchNorm2d(256, eps=1e-05, momentum=0.1, affine=True, track_running_stats=True)\n",
       "        (conv3): Conv2d(256, 1024, kernel_size=(1, 1), stride=(1, 1), bias=False)\n",
       "        (bn3): BatchNorm2d(1024, eps=1e-05, momentum=0.1, affine=True, track_running_stats=True)\n",
       "        (relu): ReLU(inplace)\n",
       "      )\n",
       "      (5): Bottleneck(\n",
       "        (conv1): Conv2d(1024, 256, kernel_size=(1, 1), stride=(1, 1), bias=False)\n",
       "        (bn1): BatchNorm2d(256, eps=1e-05, momentum=0.1, affine=True, track_running_stats=True)\n",
       "        (conv2): Conv2d(256, 256, kernel_size=(3, 3), stride=(1, 1), padding=(1, 1), bias=False)\n",
       "        (bn2): BatchNorm2d(256, eps=1e-05, momentum=0.1, affine=True, track_running_stats=True)\n",
       "        (conv3): Conv2d(256, 1024, kernel_size=(1, 1), stride=(1, 1), bias=False)\n",
       "        (bn3): BatchNorm2d(1024, eps=1e-05, momentum=0.1, affine=True, track_running_stats=True)\n",
       "        (relu): ReLU(inplace)\n",
       "      )\n",
       "    )\n",
       "    (7): Sequential(\n",
       "      (0): Bottleneck(\n",
       "        (conv1): Conv2d(1024, 512, kernel_size=(1, 1), stride=(1, 1), bias=False)\n",
       "        (bn1): BatchNorm2d(512, eps=1e-05, momentum=0.1, affine=True, track_running_stats=True)\n",
       "        (conv2): Conv2d(512, 512, kernel_size=(3, 3), stride=(2, 2), padding=(1, 1), bias=False)\n",
       "        (bn2): BatchNorm2d(512, eps=1e-05, momentum=0.1, affine=True, track_running_stats=True)\n",
       "        (conv3): Conv2d(512, 2048, kernel_size=(1, 1), stride=(1, 1), bias=False)\n",
       "        (bn3): BatchNorm2d(2048, eps=1e-05, momentum=0.1, affine=True, track_running_stats=True)\n",
       "        (relu): ReLU(inplace)\n",
       "        (downsample): Sequential(\n",
       "          (0): Conv2d(1024, 2048, kernel_size=(1, 1), stride=(2, 2), bias=False)\n",
       "          (1): BatchNorm2d(2048, eps=1e-05, momentum=0.1, affine=True, track_running_stats=True)\n",
       "        )\n",
       "      )\n",
       "      (1): Bottleneck(\n",
       "        (conv1): Conv2d(2048, 512, kernel_size=(1, 1), stride=(1, 1), bias=False)\n",
       "        (bn1): BatchNorm2d(512, eps=1e-05, momentum=0.1, affine=True, track_running_stats=True)\n",
       "        (conv2): Conv2d(512, 512, kernel_size=(3, 3), stride=(1, 1), padding=(1, 1), bias=False)\n",
       "        (bn2): BatchNorm2d(512, eps=1e-05, momentum=0.1, affine=True, track_running_stats=True)\n",
       "        (conv3): Conv2d(512, 2048, kernel_size=(1, 1), stride=(1, 1), bias=False)\n",
       "        (bn3): BatchNorm2d(2048, eps=1e-05, momentum=0.1, affine=True, track_running_stats=True)\n",
       "        (relu): ReLU(inplace)\n",
       "      )\n",
       "      (2): Bottleneck(\n",
       "        (conv1): Conv2d(2048, 512, kernel_size=(1, 1), stride=(1, 1), bias=False)\n",
       "        (bn1): BatchNorm2d(512, eps=1e-05, momentum=0.1, affine=True, track_running_stats=True)\n",
       "        (conv2): Conv2d(512, 512, kernel_size=(3, 3), stride=(1, 1), padding=(1, 1), bias=False)\n",
       "        (bn2): BatchNorm2d(512, eps=1e-05, momentum=0.1, affine=True, track_running_stats=True)\n",
       "        (conv3): Conv2d(512, 2048, kernel_size=(1, 1), stride=(1, 1), bias=False)\n",
       "        (bn3): BatchNorm2d(2048, eps=1e-05, momentum=0.1, affine=True, track_running_stats=True)\n",
       "        (relu): ReLU(inplace)\n",
       "      )\n",
       "    )\n",
       "  )\n",
       "  (head): Linear(in_features=2048, out_features=1, bias=True)\n",
       "  (conv1): Conv2d(1, 32, kernel_size=(1, 4), stride=(1, 1))\n",
       "  (conv2): Conv2d(1, 1, kernel_size=(32, 1), stride=(1, 1))\n",
       "  (dropout): Dropout(p=0.5)\n",
       ")"
      ]
     },
     "execution_count": 55,
     "metadata": {},
     "output_type": "execute_result"
    }
   ],
   "source": [
    "learn.load(f'{name}-stage9_unfz')\n",
    "learn.model.cuda()"
   ]
  },
  {
   "cell_type": "code",
   "execution_count": 38,
   "metadata": {},
   "outputs": [],
   "source": [
    "new_whale_fns = set(df[df['Id']=='new_whale'].sample(frac = 1).Image.iloc[:1000])\n",
    "#new_whale_fns\n",
    "val_fns = set(df[df.sighting_count == 2].Image)"
   ]
  },
  {
   "cell_type": "code",
   "execution_count": 41,
   "metadata": {},
   "outputs": [
    {
     "name": "stdout",
     "output_type": "stream",
     "text": [
      "3570\n"
     ]
    },
    {
     "data": {
      "text/html": [
       "<div>\n",
       "<style scoped>\n",
       "    .dataframe tbody tr th:only-of-type {\n",
       "        vertical-align: middle;\n",
       "    }\n",
       "\n",
       "    .dataframe tbody tr th {\n",
       "        vertical-align: top;\n",
       "    }\n",
       "\n",
       "    .dataframe thead th {\n",
       "        text-align: right;\n",
       "    }\n",
       "</style>\n",
       "<table border=\"1\" class=\"dataframe\">\n",
       "  <thead>\n",
       "    <tr style=\"text-align: right;\">\n",
       "      <th></th>\n",
       "      <th>Image</th>\n",
       "      <th>Id</th>\n",
       "    </tr>\n",
       "  </thead>\n",
       "  <tbody>\n",
       "    <tr>\n",
       "      <th>0</th>\n",
       "      <td>0000e88ab.jpg</td>\n",
       "      <td>w_f48451c</td>\n",
       "    </tr>\n",
       "    <tr>\n",
       "      <th>1</th>\n",
       "      <td>0001f9222.jpg</td>\n",
       "      <td>w_c3d896a</td>\n",
       "    </tr>\n",
       "  </tbody>\n",
       "</table>\n",
       "</div>"
      ],
      "text/plain": [
       "           Image         Id\n",
       "0  0000e88ab.jpg  w_f48451c\n",
       "1  0001f9222.jpg  w_c3d896a"
      ]
     },
     "execution_count": 41,
     "metadata": {},
     "output_type": "execute_result"
    }
   ],
   "source": [
    "val_fns = set(df[df.sighting_count == 2].Image)\n",
    "print(len(val_fns) + len(new_whale_fns))\n",
    "\n",
    "classes = df.Id.unique()\n",
    "\n",
    "df = df.drop(columns = ['sighting_count'])\n",
    "df.head(2)"
   ]
  },
  {
   "cell_type": "code",
   "execution_count": 42,
   "metadata": {},
   "outputs": [],
   "source": [
    "\n",
    "data = (\n",
    "    ImageItemList\n",
    "        .from_df(df, train_path, cols=['Image'])\n",
    "        .split_by_valid_func(lambda path: path2fn(path) in val_fns.union(new_whale_fns))\n",
    "        .label_from_func(lambda path: fn2label[path2fn(path)], classes=classes)\n",
    "        .add_test(ImageItemList.from_folder(test_path))\n",
    "        .transform(get_transforms(do_flip=False), size=SZ, resize_method=ResizeMethod.SQUISH)\n",
    "        .databunch(bs=BS, num_workers=NUM_WORKERS, path=root_path)\n",
    "        .normalize(imagenet_stats)\n",
    ")"
   ]
  },
  {
   "cell_type": "code",
   "execution_count": 43,
   "metadata": {
    "scrolled": true
   },
   "outputs": [
    {
     "ename": "AttributeError",
     "evalue": "'SiameseNetwork' object has no attribute 'im2emb'",
     "output_type": "error",
     "traceback": [
      "\u001b[0;31m---------------------------------------------------------------------------\u001b[0m",
      "\u001b[0;31mAttributeError\u001b[0m                            Traceback (most recent call last)",
      "\u001b[0;32m<ipython-input-43-0ee7de747b7e>\u001b[0m in \u001b[0;36m<module>\u001b[0;34m()\u001b[0m\n\u001b[0;32m----> 1\u001b[0;31m \u001b[0mdist_mat\u001b[0m\u001b[0;34m,\u001b[0m \u001b[0mval_target\u001b[0m\u001b[0;34m,\u001b[0m \u001b[0m_\u001b[0m \u001b[0;34m=\u001b[0m \u001b[0mcal_mat\u001b[0m\u001b[0;34m(\u001b[0m\u001b[0mlearn\u001b[0m\u001b[0;34m.\u001b[0m\u001b[0mmodel\u001b[0m\u001b[0;34m,\u001b[0m \u001b[0mdata\u001b[0m\u001b[0;34m.\u001b[0m\u001b[0mvalid_dl\u001b[0m\u001b[0;34m,\u001b[0m \u001b[0mdata\u001b[0m\u001b[0;34m.\u001b[0m\u001b[0mvalid_dl\u001b[0m\u001b[0;34m,\u001b[0m \u001b[0mds_with_target1\u001b[0m\u001b[0;34m=\u001b[0m\u001b[0;32mTrue\u001b[0m\u001b[0;34m,\u001b[0m \u001b[0mds_with_target2\u001b[0m\u001b[0;34m=\u001b[0m\u001b[0;32mTrue\u001b[0m\u001b[0;34m)\u001b[0m\u001b[0;34m\u001b[0m\u001b[0m\n\u001b[0m",
      "\u001b[0;32m~/work/whale/whale/utils.py\u001b[0m in \u001b[0;36mcal_mat\u001b[0;34m(model, data_loader1, data_loader2, ds_with_target1, ds_with_target2)\u001b[0m\n\u001b[1;32m    792\u001b[0m         \u001b[0;31m# calculate embeddings of all validation_set\u001b[0m\u001b[0;34m\u001b[0m\u001b[0;34m\u001b[0m\u001b[0m\n\u001b[1;32m    793\u001b[0m         \u001b[0;32mif\u001b[0m \u001b[0mds_with_target1\u001b[0m\u001b[0;34m:\u001b[0m\u001b[0;34m\u001b[0m\u001b[0m\n\u001b[0;32m--> 794\u001b[0;31m             \u001b[0memb1\u001b[0m\u001b[0;34m,\u001b[0m \u001b[0mtarget1\u001b[0m \u001b[0;34m=\u001b[0m \u001b[0mds_siamese_emb\u001b[0m\u001b[0;34m(\u001b[0m\u001b[0mdata_loader1\u001b[0m\u001b[0;34m,\u001b[0m \u001b[0mmodel\u001b[0m\u001b[0;34m,\u001b[0m \u001b[0mds_with_target\u001b[0m\u001b[0;34m=\u001b[0m\u001b[0mds_with_target1\u001b[0m\u001b[0;34m)\u001b[0m\u001b[0;34m\u001b[0m\u001b[0m\n\u001b[0m\u001b[1;32m    795\u001b[0m             \u001b[0mtarget1_tensor\u001b[0m \u001b[0;34m=\u001b[0m \u001b[0mtorch\u001b[0m\u001b[0;34m.\u001b[0m\u001b[0mcat\u001b[0m\u001b[0;34m(\u001b[0m\u001b[0mtarget1\u001b[0m\u001b[0;34m)\u001b[0m\u001b[0;34m\u001b[0m\u001b[0m\n\u001b[1;32m    796\u001b[0m         \u001b[0;32melse\u001b[0m\u001b[0;34m:\u001b[0m\u001b[0;34m\u001b[0m\u001b[0m\n",
      "\u001b[0;32m~/work/whale/whale/utils.py\u001b[0m in \u001b[0;36mds_siamese_emb\u001b[0;34m(dl, model, ds_with_target)\u001b[0m\n\u001b[1;32m    777\u001b[0m             \u001b[0;31m#print(k)\u001b[0m\u001b[0;34m\u001b[0m\u001b[0;34m\u001b[0m\u001b[0m\n\u001b[1;32m    778\u001b[0m             \u001b[0mdata\u001b[0m \u001b[0;34m=\u001b[0m \u001b[0mdata\u001b[0m\u001b[0;34m.\u001b[0m\u001b[0mto\u001b[0m\u001b[0;34m(\u001b[0m\u001b[0mdevice\u001b[0m\u001b[0;34m)\u001b[0m\u001b[0;34m\u001b[0m\u001b[0m\n\u001b[0;32m--> 779\u001b[0;31m             \u001b[0membs\u001b[0m\u001b[0;34m.\u001b[0m\u001b[0mappend\u001b[0m\u001b[0;34m(\u001b[0m\u001b[0mmodel\u001b[0m\u001b[0;34m.\u001b[0m\u001b[0mim2emb\u001b[0m\u001b[0;34m(\u001b[0m\u001b[0mdata\u001b[0m\u001b[0;34m)\u001b[0m\u001b[0;34m)\u001b[0m\u001b[0;34m\u001b[0m\u001b[0m\n\u001b[0m\u001b[1;32m    780\u001b[0m             \u001b[0mtargets\u001b[0m\u001b[0;34m.\u001b[0m\u001b[0mappend\u001b[0m\u001b[0;34m(\u001b[0m\u001b[0mtarget\u001b[0m\u001b[0;34m)\u001b[0m\u001b[0;34m\u001b[0m\u001b[0m\n\u001b[1;32m    781\u001b[0m         \u001b[0;32mreturn\u001b[0m \u001b[0membs\u001b[0m\u001b[0;34m,\u001b[0m \u001b[0mtargets\u001b[0m\u001b[0;34m\u001b[0m\u001b[0m\n",
      "\u001b[0;32m~/.pyenv/versions/anaconda3-5.3.1/lib/python3.7/site-packages/torch/nn/modules/module.py\u001b[0m in \u001b[0;36m__getattr__\u001b[0;34m(self, name)\u001b[0m\n\u001b[1;32m    533\u001b[0m                 \u001b[0;32mreturn\u001b[0m \u001b[0mmodules\u001b[0m\u001b[0;34m[\u001b[0m\u001b[0mname\u001b[0m\u001b[0;34m]\u001b[0m\u001b[0;34m\u001b[0m\u001b[0m\n\u001b[1;32m    534\u001b[0m         raise AttributeError(\"'{}' object has no attribute '{}'\".format(\n\u001b[0;32m--> 535\u001b[0;31m             type(self).__name__, name))\n\u001b[0m\u001b[1;32m    536\u001b[0m \u001b[0;34m\u001b[0m\u001b[0m\n\u001b[1;32m    537\u001b[0m     \u001b[0;32mdef\u001b[0m \u001b[0m__setattr__\u001b[0m\u001b[0;34m(\u001b[0m\u001b[0mself\u001b[0m\u001b[0;34m,\u001b[0m \u001b[0mname\u001b[0m\u001b[0;34m,\u001b[0m \u001b[0mvalue\u001b[0m\u001b[0;34m)\u001b[0m\u001b[0;34m:\u001b[0m\u001b[0;34m\u001b[0m\u001b[0m\n",
      "\u001b[0;31mAttributeError\u001b[0m: 'SiameseNetwork' object has no attribute 'im2emb'"
     ]
    }
   ],
   "source": [
    "dist_mat, val_target, _ = cal_mat(learn.model, data.valid_dl, data.valid_dl, ds_with_target1=True, ds_with_target2=True)"
   ]
  },
  {
   "cell_type": "code",
   "execution_count": 56,
   "metadata": {},
   "outputs": [
    {
     "name": "stdout",
     "output_type": "stream",
     "text": [
      "torch.Size([3570, 2048])\n",
      "CPU times: user 8.02 s, sys: 2.25 s, total: 10.3 s\n",
      "Wall time: 10.6 s\n"
     ]
    }
   ],
   "source": [
    "%%time\n",
    "targs = []\n",
    "feats = []\n",
    "learn.model.eval()\n",
    "with torch.no_grad():\n",
    "    for ims, ts in data.valid_dl:\n",
    "        feats.append(learn.model.process_features(learn.model.cnn(ims)))  ##\n",
    "        targs.append(ts)\n",
    "\n",
    "    feats = torch.cat(feats)\n",
    "    print(feats.shape)"
   ]
  },
  {
   "cell_type": "code",
   "execution_count": 57,
   "metadata": {},
   "outputs": [
    {
     "data": {
      "text/plain": [
       "tensor([[0.0723, 1.5312, 0.7037,  ..., 1.5163, 2.7888, 1.1090],\n",
       "        [0.0000, 2.0798, 1.8789,  ..., 0.6779, 0.4556, 0.5346],\n",
       "        [1.3245, 0.4901, 1.2838,  ..., 0.8748, 1.4788, 2.4796],\n",
       "        ...,\n",
       "        [1.4252, 1.2381, 0.6191,  ..., 1.0574, 1.8883, 0.6394],\n",
       "        [0.9505, 0.6489, 0.4599,  ..., 1.9476, 3.0603, 1.1421],\n",
       "        [0.9790, 0.6570, 0.3927,  ..., 1.3757, 2.3495, 2.1561]],\n",
       "       device='cuda:0')"
      ]
     },
     "execution_count": 57,
     "metadata": {},
     "output_type": "execute_result"
    }
   ],
   "source": [
    "feats"
   ]
  },
  {
   "cell_type": "code",
   "execution_count": 58,
   "metadata": {},
   "outputs": [
    {
     "name": "stdout",
     "output_type": "stream",
     "text": [
      "CPU times: user 2min 25s, sys: 26.7 s, total: 2min 51s\n",
      "Wall time: 2min 51s\n"
     ]
    }
   ],
   "source": [
    "%%time\n",
    "sims = []\n",
    "learn.model.eval()\n",
    "with torch.no_grad():\n",
    "    for feat in feats:\n",
    "        x1 = feats#.copy()\n",
    "        x2 = feat.unsqueeze(0).repeat(3570 ,1)\n",
    "        d1 = learn.model.calculate_distance(x1 , x2)\n",
    "        d2 = (x1 + x2)\n",
    "        d3 = (x1*x2)\n",
    "        d4 = (x1-x2)*(x1 - x2)\n",
    "        concat_layer = torch.cat([d1 ,d2,d3, d4]  ,dim = 1)\n",
    "        concat_layer = concat_layer.view( - 1, 1, num_features_model(learn.model.cnn) , 4)   ## no of channels is second dimension\n",
    "        concat_layer  = F.relu(learn.model.conv1(concat_layer.cuda()))\n",
    "        concat_layer = concat_layer.view(-1 ,1,32, num_features_model(learn.model.cnn)  )\n",
    "        concat_layer = F.relu(learn.model.conv2(concat_layer))\n",
    "        concat_layer_fn = concat_layer.view(-1 ,num_features_model(learn.model.cnn) )\n",
    "        #out = learn.model.head(concat_layer_fn)\n",
    "        predicted_similarity = learn.model.head(concat_layer_fn).sigmoid_()  #.cuda()\n",
    "        sims.append(predicted_similarity.squeeze())\n",
    "\n",
    "    \n"
   ]
  },
  {
   "cell_type": "code",
   "execution_count": 59,
   "metadata": {},
   "outputs": [
    {
     "data": {
      "text/plain": [
       "3"
      ]
     },
     "execution_count": 59,
     "metadata": {},
     "output_type": "execute_result"
    }
   ],
   "source": [
    "new_whale_idx = np.where(classes == 'new_whale')[0][0]\n",
    "new_whale_idx"
   ]
  },
  {
   "cell_type": "code",
   "execution_count": 60,
   "metadata": {},
   "outputs": [],
   "source": [
    "top_5s = []\n",
    "learn.model.eval()\n",
    "with torch.no_grad():\n",
    "    for i, sim in enumerate(sims):\n",
    "        idxs = sim.argsort(descending=True)\n",
    "        probs = sim[idxs]\n",
    "        top_5 = []\n",
    "        for j, p in zip(idxs, probs):\n",
    "            if len(top_5) == 5: break\n",
    "            if j == i: continue   \n",
    "            predicted_class = data.valid_ds.y.items[j]\n",
    "            \"\"\"\n",
    "            we dont want to predict new whale for validation data \n",
    "            \"\"\"\n",
    "            if predicted_class == new_whale_idx: continue\n",
    "            if predicted_class not in top_5: top_5.append(predicted_class)\n",
    "        top_5s.append(top_5)\n",
    "\n",
    "    ## top 5 contains 5 best predicted classes ,w ith indices from classes dictionary"
   ]
  },
  {
   "cell_type": "code",
   "execution_count": 61,
   "metadata": {},
   "outputs": [
    {
     "data": {
      "text/plain": [
       "[[6, 1469, 2311, 2422, 948],\n",
       " [1093, 399, 1880, 3149, 3922],\n",
       " [3030, 9, 4097, 441, 376],\n",
       " [14, 1982, 3099, 34, 3797],\n",
       " [15, 1535, 1520, 2882, 3079]]"
      ]
     },
     "execution_count": 61,
     "metadata": {},
     "output_type": "execute_result"
    }
   ],
   "source": [
    "top_5s[:5]"
   ]
  },
  {
   "cell_type": "code",
   "execution_count": 62,
   "metadata": {},
   "outputs": [
    {
     "data": {
      "text/plain": [
       "0.6577357609710551"
      ]
     },
     "execution_count": 62,
     "metadata": {},
     "output_type": "execute_result"
    }
   ],
   "source": [
    "\"\"\"\n",
    "mapk of validation data set without having new whales in predictions. \n",
    "\"\"\"\n",
    "mapk(data.valid_ds.y.items.reshape(-1,1), np.stack(top_5s), 5)"
   ]
  },
  {
   "cell_type": "code",
   "execution_count": 65,
   "metadata": {},
   "outputs": [
    {
     "name": "stdout",
     "output_type": "stream",
     "text": [
      "0.99 0.8398366013071895\n",
      "0.991111111111111 0.8422455648926237\n",
      "0.9922222222222222 0.8449299719887955\n",
      "0.9933333333333333 0.8474323062558355\n",
      "0.9944444444444445 0.8499346405228757\n",
      "0.9955555555555555 0.8496451914098974\n",
      "0.9966666666666667 0.8504575163398692\n",
      "0.9977777777777778 0.8502987861811391\n",
      "0.9988888888888889 0.8334500466853408\n",
      "1.0 0.6159197012138188\n"
     ]
    }
   ],
   "source": [
    "# %%time\n",
    "\"\"\"\n",
    "trying to calcualte threshold probability for new whale, which maximises the mapk for validation data.\n",
    "\"\"\"\n",
    "learn.model.eval()\n",
    "with torch.no_grad():\n",
    "    for thresh in np.linspace(0.99, 1, 10):\n",
    "        top_5s = []\n",
    "        for i, sim in enumerate(sims):\n",
    "            idxs = sim.argsort(descending=True)\n",
    "            probs = sim[idxs]\n",
    "            top_5 = []\n",
    "            for j, p in zip(idxs, probs):\n",
    "                if new_whale_idx not in top_5 and p < thresh and len(top_5) < 5: top_5.append(new_whale_idx)\n",
    "                if len(top_5) == 5: break\n",
    "                if j == i: continue\n",
    "                predicted_class = data.valid_ds.y.items[j]\n",
    "                if predicted_class not in top_5: top_5.append(predicted_class)\n",
    "            top_5s.append(top_5)\n",
    "        print(thresh, mapk(data.valid_ds.y.items.reshape(-1,1), np.stack(top_5s), 5))"
   ]
  },
  {
   "cell_type": "code",
   "execution_count": 66,
   "metadata": {},
   "outputs": [],
   "source": [
    "data = (\n",
    "    ImageItemList\n",
    "        .from_df(df, train_path, cols=['Image'])\n",
    "        .split_by_valid_func(lambda path: path2fn(path) in {'69823499d.jpg'}) # in newer version of the fastai library there is .no_split that could be used here\n",
    "        .label_from_func(lambda path: fn2label[path2fn(path)], classes=classes)\n",
    "        .add_test(ImageItemList.from_folder(test_path))\n",
    "        .transform(None, size=SZ, resize_method=ResizeMethod.SQUISH)\n",
    "        .databunch(bs=BS, num_workers=NUM_WORKERS, path=root_path)\n",
    "        .normalize(imagenet_stats)\n",
    ")"
   ]
  },
  {
   "cell_type": "code",
   "execution_count": 67,
   "metadata": {},
   "outputs": [
    {
     "name": "stdout",
     "output_type": "stream",
     "text": [
      "CPU times: user 18.7 s, sys: 3.92 s, total: 22.7 s\n",
      "Wall time: 23.5 s\n"
     ]
    }
   ],
   "source": [
    "%%time\n",
    "test_feats = []\n",
    "learn.model.eval()\n",
    "with torch.no_grad():\n",
    "    for ims, _ in data.test_dl:\n",
    "        test_feats.append(learn.model.process_features(learn.model.cnn(ims)))\n",
    "\n",
    "\n",
    "    test_feats = torch.cat(test_feats)\n"
   ]
  },
  {
   "cell_type": "code",
   "execution_count": 68,
   "metadata": {},
   "outputs": [
    {
     "name": "stdout",
     "output_type": "stream",
     "text": [
      "CPU times: user 58.4 s, sys: 11.2 s, total: 1min 9s\n",
      "Wall time: 1min 10s\n"
     ]
    }
   ],
   "source": [
    "%%time\n",
    "train_feats = []\n",
    "train_class_idxs = []\n",
    "learn.model.eval()\n",
    "with torch.no_grad():\n",
    "    for ims, t in data.train_dl:\n",
    "        train_feats.append(learn.model.process_features(learn.model.cnn(ims)))\n",
    "        train_class_idxs.append(t)\n",
    "\n",
    "    train_class_idxs = torch.cat(train_class_idxs)\n",
    "    train_feats = torch.cat(train_feats)"
   ]
  },
  {
   "cell_type": "code",
   "execution_count": 69,
   "metadata": {},
   "outputs": [
    {
     "data": {
      "text/plain": [
       "25344"
      ]
     },
     "execution_count": 69,
     "metadata": {},
     "output_type": "execute_result"
    }
   ],
   "source": [
    "len(train_class_idxs)\n",
    "len(train_feats)"
   ]
  },
  {
   "cell_type": "code",
   "execution_count": 71,
   "metadata": {},
   "outputs": [
    {
     "data": {
      "text/plain": [
       "tensor([[1.4471, 1.3290, 2.0784,  ..., 1.5570, 2.4261, 1.3663],\n",
       "        [2.0404, 0.7120, 0.8998,  ..., 0.9752, 2.1133, 1.2476],\n",
       "        [0.7020, 2.5425, 0.8435,  ..., 0.5775, 1.1351, 0.4180],\n",
       "        ...,\n",
       "        [1.8090, 1.1621, 1.5798,  ..., 0.9169, 0.7465, 0.5363],\n",
       "        [0.0087, 1.3927, 3.5959,  ..., 0.2392, 1.0941, 2.6997],\n",
       "        [0.3392, 1.3617, 0.8794,  ..., 0.8031, 0.7258, 0.6760]],\n",
       "       device='cuda:0')"
      ]
     },
     "execution_count": 71,
     "metadata": {},
     "output_type": "execute_result"
    }
   ],
   "source": [
    "train_feats"
   ]
  },
  {
   "cell_type": "code",
   "execution_count": 72,
   "metadata": {},
   "outputs": [
    {
     "data": {
      "text/plain": [
       "torch.Size([25344, 2048])"
      ]
     },
     "execution_count": 72,
     "metadata": {},
     "output_type": "execute_result"
    }
   ],
   "source": [
    "test_feats[0].expand(len(train_feats), 2048).shape"
   ]
  },
  {
   "cell_type": "code",
   "execution_count": 73,
   "metadata": {},
   "outputs": [],
   "source": [
    "train_feats = train_feats.cuda()\n",
    "test_feats = test_feats.cuda()"
   ]
  },
  {
   "cell_type": "code",
   "execution_count": null,
   "metadata": {},
   "outputs": [],
   "source": []
  },
  {
   "cell_type": "code",
   "execution_count": null,
   "metadata": {},
   "outputs": [],
   "source": []
  },
  {
   "cell_type": "code",
   "execution_count": 74,
   "metadata": {},
   "outputs": [
    {
     "name": "stdout",
     "output_type": "stream",
     "text": [
      "0 7960\n",
      "1000 7960\n",
      "2000 7960\n",
      "3000 7960\n",
      "4000 7960\n",
      "5000 7960\n",
      "6000 7960\n",
      "7000 7960\n",
      "CPU times: user 1h 16min 26s, sys: 1min 5s, total: 1h 17min 32s\n",
      "Wall time: 1h 17min 30s\n"
     ]
    }
   ],
   "source": [
    "%%time\n",
    "torch.cuda.empty_cache()\n",
    "sims = []\n",
    "learn.model.eval()\n",
    "with torch.no_grad():\n",
    "    tmp_batch_size = 1000\n",
    "    for i, feat in enumerate(test_feats):\n",
    "        if i % 1000 == 0:\n",
    "            print(i, len(test_feats))\n",
    "        #dists = learn.model.calculate_distance(train_feats, feat.unsqueeze(0).repeat(len(train_feats), 1))\n",
    "        row_sim = []\n",
    "        for k in range(0, len(train_feats), tmp_batch_size):\n",
    "            x1 = train_feats[k:k+tmp_batch_size]\n",
    "            x2 = feat.expand(x1.shape)\n",
    "            d1 = learn.model.calculate_distance(x1 , x2)\n",
    "            d2 = (x1 + x2)\n",
    "            d3 = (x1*x2)\n",
    "            d4 = (x1-x2)*(x1 - x2)\n",
    "            concat_layer = torch.cat([d1 ,d2,d3, d4]  ,dim = 1)\n",
    "            concat_layer = concat_layer.view( - 1, 1, num_features_model(learn.model.cnn) , 4)   ## no of channels is second dimension\n",
    "            concat_layer  = F.relu(learn.model.conv1(concat_layer.cuda()))\n",
    "            concat_layer = concat_layer.view(-1 ,1,32, num_features_model(learn.model.cnn)  )\n",
    "            concat_layer = F.relu(learn.model.conv2(concat_layer))\n",
    "            concat_layer_fn = concat_layer.view(-1 ,num_features_model(learn.model.cnn) )\n",
    "            predicted_similarity = learn.model.head(concat_layer_fn).sigmoid_()  #.cuda()\n",
    "            row_sim.append(predicted_similarity)\n",
    "        row_sim = torch.cat(row_sim)\n",
    "        sims.append(row_sim.squeeze().detach().cpu())\n",
    "\n",
    "\n"
   ]
  },
  {
   "cell_type": "code",
   "execution_count": 75,
   "metadata": {},
   "outputs": [],
   "source": [
    "\n",
    "thresh = 0.996 #0.95\n",
    "\n",
    "top_5s = []\n",
    "\n",
    "for sim in sims:\n",
    "    idxs = sim.argsort(descending = True)\n",
    "    probs = sim[idxs]\n",
    "    top_5 = []\n",
    "    \n",
    "    \n",
    "    for  i , p in zip(idxs , probs):\n",
    "        if new_whale_idx not in top_5 and p < thresh  and len(top_5) < 5:\n",
    "            top_5.append(new_whale_idx)\n",
    "        if len(top_5) ==5: break\n",
    "        #if i == new_whale_idx: continue\n",
    "        predicted_class = train_class_idxs[i]\n",
    "        #print(predicted_class)\n",
    "        if predicted_class == new_whale_idx: continue\n",
    "        if predicted_class not in top_5:\n",
    "            top_5.append(predicted_class)\n",
    "    top_5s.append(top_5)\n",
    "    "
   ]
  },
  {
   "cell_type": "code",
   "execution_count": 76,
   "metadata": {},
   "outputs": [
    {
     "data": {
      "text/plain": [
       "7960"
      ]
     },
     "execution_count": 76,
     "metadata": {},
     "output_type": "execute_result"
    }
   ],
   "source": [
    "len(top_5s)"
   ]
  },
  {
   "cell_type": "code",
   "execution_count": 77,
   "metadata": {},
   "outputs": [],
   "source": [
    "top_5_classes  = []\n",
    "\n",
    "for top_5 in top_5s:\n",
    "    top_5_classes.append(' '.join([classes[t] for t in top_5]))"
   ]
  },
  {
   "cell_type": "code",
   "execution_count": 78,
   "metadata": {},
   "outputs": [
    {
     "data": {
      "text/plain": [
       "['w_d0475b2 w_89f6097 new_whale w_83cc0ec w_f66ec54',\n",
       " 'w_ad88c85 w_60ce6fc new_whale w_5c4c166 w_b938e96',\n",
       " 'w_1af6b9a w_37e61c2 w_2a98962 new_whale w_3962169',\n",
       " 'w_e04d084 new_whale w_c073f96 w_d24ae04 w_343f088',\n",
       " 'w_4e40657 w_68eaf36 w_3b71107 w_9ef6147 new_whale',\n",
       " 'w_fd6a3ad w_a113b33 w_a60f405 w_107b98e w_641df87',\n",
       " 'w_e1b8378 w_d6a2ad8 w_5831e13 w_dc23fbc w_4130233',\n",
       " 'w_6cda039 w_c0bf8f8 w_33696ac new_whale w_1029215',\n",
       " 'w_88065f2 w_72f3685 new_whale w_4441671 w_37d2f3a',\n",
       " 'w_7769d46 w_9e52d87 w_addd610 new_whale w_93fddcb',\n",
       " 'w_291cba5 new_whale w_b60ef24 w_ea91c50 w_5325f8a',\n",
       " 'w_7983f71 new_whale w_6fc9857 w_7351540 w_c17a2d4',\n",
       " 'w_e99e430 w_67b3af9 new_whale w_8b86b95 w_1419d90',\n",
       " 'new_whale w_0b1e4a6 w_2b069ba w_ab629bb w_857cb95',\n",
       " 'w_790fe92 w_13250ab new_whale w_7038727 w_0350bf4',\n",
       " 'w_c562266 new_whale w_44fc980 w_754cc34 w_9e52d87',\n",
       " 'w_4ab3420 w_47d86e8 w_2ff0834 w_e819d10 w_4d96d06',\n",
       " 'w_1c47899 w_620dffe w_b4396ae new_whale w_801eb08',\n",
       " 'w_0bdb7a5 w_dec7ffd new_whale w_6d35e41 w_ef83760',\n",
       " 'w_7087c88 w_e9b4719 w_a10515b new_whale w_2365d55',\n",
       " 'w_9b5109b w_0369a5c new_whale w_e6450bc w_5808373',\n",
       " 'w_a1e3bc9 new_whale w_5597026 w_16def42 w_d3e3b56',\n",
       " 'w_cd2d796 new_whale w_5f0af76 w_ed2e7d6 w_9d56f22',\n",
       " 'w_b938e96 w_94da1e2 w_3879fa0 new_whale w_fa2ec89',\n",
       " 'new_whale w_8b86b95 w_488865e w_c16cb2c w_bbfce38',\n",
       " 'w_e090471 w_c59d924 new_whale w_bd9f354 w_ee2a1e0',\n",
       " 'w_b3197c6 w_e6c320e new_whale w_e5ab551 w_f10d0eb',\n",
       " 'w_5a3dbb9 w_42e0e40 w_7058149 w_69bb761 w_7e56d66',\n",
       " 'w_05bf34e w_a763725 w_bca4304 new_whale w_781654e',\n",
       " 'w_1c2e409 w_a88c767 w_177d88e w_a84be0c w_38c0639',\n",
       " 'w_c1d2fbe w_c2a1bc4 new_whale w_a8b34a0 w_5dc4f38',\n",
       " 'w_f2dd08f w_88065f2 w_b5e6c9c w_01e1fe0 w_37d2f3a',\n",
       " 'new_whale w_591a2c5 w_7983f71 w_3346f4e w_db0c461',\n",
       " 'w_3dd4346 w_428f3c0 w_98f16af w_d1e0f06 w_5e63553',\n",
       " 'w_b93105d w_69c06ad w_9032a74 w_bc5dbf9 w_e93b569',\n",
       " 'w_c928809 new_whale w_483947b w_6ebfe7b w_23ce00e',\n",
       " 'w_5e8e218 w_73d71d2 new_whale w_e2e7384 w_937830e',\n",
       " 'new_whale w_c073f96 w_8f1069a w_f971ecb w_7cb0e92',\n",
       " 'w_564a34b w_bdea26c w_972e51e new_whale w_a6a1bea',\n",
       " 'w_a7067d1 new_whale w_c0f1e04 w_99383ac w_f08fb81',\n",
       " 'w_6f3a3ec w_f6e5311 w_e4502b3 w_2f0f74c new_whale',\n",
       " 'w_2034344 new_whale w_a3d2008 w_cf88f4b w_ffa542b',\n",
       " 'w_9fd6fe7 w_c7951e0 new_whale w_0637181 w_efd6a16',\n",
       " 'w_f57fb81 w_d405854 w_4a28f21 new_whale w_939a97b',\n",
       " 'w_0f84e7c new_whale w_e0b6a42 w_8f1069a w_e1f57e7',\n",
       " 'w_4e13e82 w_648b85e new_whale w_d11ce9a w_9a1a810',\n",
       " 'new_whale w_53feb91 w_00289b1 w_a9a3878 w_e19c1d6',\n",
       " 'w_6301785 w_107b98e w_84a32d1 new_whale w_a113b33',\n",
       " 'w_c5afe0e w_1f8621d w_bef54e9 w_78ca251 new_whale',\n",
       " 'w_708c3d2 new_whale w_f119baa w_e13f4e8 w_836581c',\n",
       " 'w_c25d2d1 w_fa84489 w_731fe92 w_9583b7e w_edce644',\n",
       " 'w_3154c82 w_2148753 new_whale w_04ebfe8 w_38e4345',\n",
       " 'w_71b9a85 w_0abdaf4 w_3e39c9c w_60a54be w_3815890',\n",
       " 'w_83e0076 w_fa2ec89 new_whale w_bb4f52e w_866f40e',\n",
       " 'w_2f1488c w_675d7d7 w_2e231f4 w_d4bc4ff new_whale',\n",
       " 'new_whale w_cfba5e0 w_f39c242 w_d6553ba w_5d1b1a7',\n",
       " 'w_02d138d w_d9cdc09 w_ac26398 w_928ec6c new_whale',\n",
       " 'new_whale w_1fb652d w_ae6ac74 w_7f1f285 w_c8d5ad5',\n",
       " 'new_whale w_5a90eff w_21666ad w_5d5c6a6 w_23bfd0a',\n",
       " 'w_c1efffb w_ab7c369 w_939423d w_fdc6e6d w_218fe4a',\n",
       " 'w_2df85e7 w_12cc52d w_3bf887a new_whale w_9785e30',\n",
       " 'new_whale w_bc7de9f w_20dfb69 w_c543f7c w_9d86594',\n",
       " 'w_88aca21 w_3cc4623 new_whale w_f765256 w_1133530',\n",
       " 'w_218fe4a w_1c6465a w_0b3e0e6 new_whale w_60cf87c',\n",
       " 'w_8beb9f1 w_e1f57e7 w_0bc078c new_whale w_3584852',\n",
       " 'w_d066c0a w_fd4376a new_whale w_416168a w_8a1786f',\n",
       " 'w_0abdaf4 w_34120de w_3cb4838 new_whale w_83a4279',\n",
       " 'w_e0f635c w_a4162d6 w_038dfc0 w_409c63d new_whale',\n",
       " 'w_b93105d w_2926c77 w_e4502b3 w_8d09425 w_c2677ee',\n",
       " 'w_ae393cd new_whale w_dd88965 w_c0c5cae w_1f7c696',\n",
       " 'w_f3f887e w_4112f9a w_9888ce0 w_f787e93 new_whale',\n",
       " 'w_dea40e2 w_733e9cc w_0cadbdc w_1fecb34 w_3ff114c',\n",
       " 'w_51e91cb new_whale w_9f13096 w_456646a w_7e579dd',\n",
       " 'w_fae5d67 w_8075847 w_0577ccc w_2ddcce9 w_67e9aa8',\n",
       " 'w_5510cf3 w_0135f5f w_0abe9e7 new_whale w_91b678a',\n",
       " 'w_43d8db4 w_7f762d8 w_23ce00e new_whale w_cfce505',\n",
       " 'w_234713b w_586abcf w_c97ad94 w_43d8db4 w_a0534e5',\n",
       " 'w_0f25e6b w_02c7e9d new_whale w_c7e1b12 w_e13f4e8',\n",
       " 'w_01fc429 new_whale w_7656c1a w_8585e34 w_19671ad',\n",
       " 'w_5ae026a w_a61a47c w_e93b569 new_whale w_3feca90',\n",
       " 'w_b79abd4 w_ecdef5e w_0f466a5 w_db3cfa4 w_3fb99a3',\n",
       " 'w_af367c3 w_22b8752 w_27597ff w_939423d w_f79ca64',\n",
       " 'w_86726bc w_3de579a new_whale w_90f0cd0 w_4690940',\n",
       " 'w_e8658e7 w_f48451c new_whale w_4516d31 w_ab44ae4',\n",
       " 'w_12cc52d w_bdfd856 w_fcf1d68 new_whale w_263bd97',\n",
       " 'w_2926c77 w_a61a47c w_16c264e w_72db52b new_whale',\n",
       " 'new_whale w_a9a4878 w_28a16b0 w_08630fd w_bc7de9f',\n",
       " 'w_5b227ec w_faf5287 w_745ee82 w_d405854 w_b9d5945',\n",
       " 'w_8cfabed w_13ae3d4 w_b5e6c9c w_0a0c768 new_whale',\n",
       " 'w_0d5a672 new_whale w_9b89c88 w_c80541e w_d33bc7f',\n",
       " 'w_abf193d new_whale w_28c330c w_fa52b0c w_58f3fd4',\n",
       " 'w_b3cde16 new_whale w_d9405b3 w_c16cb2c w_d17b0c5',\n",
       " 'w_5530579 w_9732911 w_97ba78a new_whale w_f4314f3',\n",
       " 'w_4516ff1 w_3b71107 w_c684a38 new_whale w_68eaf36',\n",
       " 'w_090c08a w_f176dcf w_6aff5b1 w_8e58103 w_5037cfd',\n",
       " 'w_401f5a1 w_d24c654 new_whale w_1da93f8 w_361a865',\n",
       " 'w_c6b4d61 w_c16cb2c new_whale w_262c32f w_8b86b95',\n",
       " 'w_06d2e72 w_95f3c8e new_whale w_20df2c5 w_67a9841',\n",
       " 'w_51c003e w_9ac40d5 w_36bbd71 new_whale w_13ffdcf',\n",
       " 'w_377ef2c w_0d54c55 w_29d806a w_2ddcce9 w_37bc202',\n",
       " 'w_797b34c w_f793610 w_8ea9f68 new_whale w_ab44ae4',\n",
       " 'w_26b24d4 w_7d46ac3 w_84dadae w_076bb5a w_825910b',\n",
       " 'w_e3fb839 w_3cc7dc4 new_whale w_08c7d09 w_d72771c',\n",
       " 'w_23852a0 w_97ec13c w_b164c63 w_c16cb2c w_45a6d4e',\n",
       " 'w_0cadbdc w_3ff114c new_whale w_96985c1 w_99b7ba2',\n",
       " 'w_9a9a2c8 w_abf193d w_57546d7 new_whale w_04d4568',\n",
       " 'w_6c886f0 w_ccc26ea w_0fdde23 w_4e73055 w_c405fe4',\n",
       " 'w_6465d75 w_12fe3a8 w_bfcad53 new_whale w_6e305f5',\n",
       " 'w_7709151 new_whale w_98fc82f w_c27588a w_0887d9b',\n",
       " 'w_6ae4956 new_whale w_7c9f76d w_2ed0d2f w_67afc89',\n",
       " 'w_83a4279 w_0abdaf4 w_3815890 w_e19a641 w_721e78f',\n",
       " 'w_16df050 w_334c489 w_2f5caa9 new_whale w_dc642b6',\n",
       " 'w_b5e6c9c w_ce16eea w_c481650 w_d055e5f w_89f0c48',\n",
       " 'w_be06898 new_whale w_47aa042 w_7afb40a w_7e51d7b',\n",
       " 'w_e966f36 w_733f661 w_c2a1bc4 new_whale w_e27bbf6',\n",
       " 'w_7ffc63c w_db1f3de new_whale w_a76f0b7 w_f6c5343',\n",
       " 'w_f0d3b4f w_17f5d1d new_whale w_1759e4e w_bf41c21',\n",
       " 'w_6525e6b new_whale w_21bb5bd w_48aa237 w_db1f3de',\n",
       " 'w_07d4b0a w_9a91c1e w_73d71d2 w_3643be7 new_whale',\n",
       " 'w_e090471 w_7c1435e w_ab44ae4 w_c59d924 w_f339c6d',\n",
       " 'w_0a2e1ef new_whale w_bc62c27 w_2df1d85 w_f48451c',\n",
       " 'w_9f13096 new_whale w_456646a w_70e9661 w_7aea0b8',\n",
       " 'w_14bfbe2 w_b397217 w_8c959a6 new_whale w_088cda7',\n",
       " 'w_b3cc7b3 w_1b4bb29 w_9bde64d w_c16cb2c new_whale',\n",
       " 'w_588f349 w_40acf40 w_c178f34 new_whale w_d15dd0b',\n",
       " 'w_38de45d w_2b069ba w_75d0e61 w_55b77ce new_whale',\n",
       " 'w_88b3466 new_whale w_fe03daf w_a689d7a w_82479e4',\n",
       " 'new_whale w_725bf15 w_9e58786 w_bf7c89a w_4312b77',\n",
       " 'w_60a54be new_whale w_23ce00e w_6ebfe7b w_cf35076',\n",
       " 'w_f0a5983 w_b3e445e w_b02ac52 w_9db1fb1 w_470be90',\n",
       " 'new_whale w_b230d25 w_57a546c w_e06d673 w_900c68f',\n",
       " 'w_0a87ea4 w_143ea92 w_d76f21b w_72f3685 w_de3713f',\n",
       " 'w_af367c3 w_46ba1ce w_73b2fe3 w_88b3466 w_8936c44',\n",
       " 'w_89f0c48 w_2b47174 w_5037cfd w_76a45de w_c5e1472',\n",
       " 'w_71d5ba2 w_c380132 w_e27bbf6 w_7b41bf7 w_394f053',\n",
       " 'w_252d315 new_whale w_6cda039 w_6e8c101 w_ad88c85',\n",
       " 'w_84d832d w_b9d5945 w_d357277 w_3ff114c w_c25d2d1',\n",
       " 'w_16df050 new_whale w_f6a16aa w_e52ff99 w_568e9fd',\n",
       " 'w_9739508 new_whale w_9da1811 w_b9e5911 w_329c19c',\n",
       " 'w_ef83760 w_5808373 w_772845b new_whale w_ed620af',\n",
       " 'w_9407749 w_bc62c27 w_d066c0a new_whale w_0a2e1ef',\n",
       " 'new_whale w_4adc1c0 w_82479e4 w_ce4d993 w_af367c3',\n",
       " 'w_5529f3b w_d4b1766 w_334c489 w_b44e89d w_e7de767',\n",
       " 'w_19f507e w_1417bc8 w_b43d0fa w_b9bae7f new_whale',\n",
       " 'w_3d834ed w_c379d78 w_df1f698 w_14b1427 w_f3887f1',\n",
       " 'w_b7411e8 w_6f7667a new_whale w_2c0f96c w_bc7de9f',\n",
       " 'w_3378e77 w_d3332dc new_whale w_58afeb2 w_a6a732d',\n",
       " 'w_702f2a0 w_8e92662 w_52adbfa new_whale w_1574bd1',\n",
       " 'new_whale w_d09a047 w_00904a7 w_985d205 w_8cfabed',\n",
       " 'new_whale w_a0534e5 w_ab7c369 w_586abcf w_0da34d3',\n",
       " 'w_83cc0ec w_685b8e1 new_whale w_47aa042 w_c3d896a',\n",
       " 'w_efc0825 w_0815d2c w_1289b63 w_e966f36 w_15b5eb1',\n",
       " 'w_d63c8d1 w_b21cfe4 w_1f429ff w_62c78f3 new_whale',\n",
       " 'w_056913a w_d4b1766 w_fb02461 w_ae6ac74 new_whale',\n",
       " 'w_07d4b0a w_9a91c1e w_3643be7 new_whale w_ea7a364',\n",
       " 'w_5665c80 w_a981164 w_e9b4719 w_8e47efa w_fc6dd24',\n",
       " 'w_334d7eb w_367832c w_3c254c1 w_781654e w_be28cde',\n",
       " 'w_3c966be w_328e490 w_8d33cf5 new_whale w_c5260b8',\n",
       " 'w_f276da3 w_fc6a5a2 new_whale w_98164c0 w_8b8dca8',\n",
       " 'w_edf43c1 w_698fcbe new_whale w_7656c1a w_4249f01',\n",
       " 'w_e3e617e w_e05c1a2 w_89f521e w_f06439d w_7e56d66',\n",
       " 'w_3bfa4f8 w_538cdf2 w_b72dc3d w_384e3b2 w_243b654',\n",
       " 'w_e89442d w_a79a828 w_3f21fed w_293431f w_96dd362',\n",
       " 'w_98164c0 w_8b8dca8 new_whale w_480d478 w_7a4b2f9',\n",
       " 'w_329ec8b w_0ee9ae5 w_26aeb61 new_whale w_8230e8f',\n",
       " 'new_whale w_a113b33 w_0a7a37c w_f7683f6 w_3949bd6',\n",
       " 'w_c684a38 w_e1c9a18 new_whale w_45246db w_efa100e',\n",
       " 'w_2926c77 w_5af08bc w_b6ddd17 w_e4502b3 w_a61a47c',\n",
       " 'w_7348ed5 new_whale w_13c8177 w_b5c3634 w_b639aa6',\n",
       " 'w_c5260b8 w_a190a88 w_73d6671 w_eaaa42f w_ec64e27',\n",
       " 'w_974c37d w_958b730 new_whale w_c16cb2c w_b28898a',\n",
       " 'w_c073f96 w_ae8982d w_ad7b758 w_d0bfef3 w_7d09141',\n",
       " 'w_7f0d18a w_9b99992 new_whale w_83cc0ec w_513f024',\n",
       " 'w_03670aa new_whale w_62bedea w_32838db w_a3bb16b',\n",
       " 'w_7918564 new_whale w_28c330c w_3de579a w_90edcb6',\n",
       " 'w_1834b49 w_d405854 new_whale w_5816f86 w_e9ef5e9',\n",
       " 'w_d24c654 w_4562f42 w_cbd5013 w_d6283ba w_2e45865',\n",
       " 'w_c536a4a new_whale w_3eae264 w_260b2ac w_d7b6f17',\n",
       " 'new_whale w_c27e664 w_513f024 w_7f0d18a w_53fb1b2',\n",
       " 'w_32de0c5 new_whale w_bf7c89a w_cb622a2 w_4fa0ba1',\n",
       " 'w_8092f18 w_e210cb5 w_0b398b2 w_9423ba4 new_whale',\n",
       " 'w_6ae4956 w_efbdcbc new_whale w_14ece76 w_4b5ade3',\n",
       " 'w_7cb0e92 w_9f2fb13 w_17b0d3a w_a4826eb w_533f9ea',\n",
       " 'w_f71de1c w_04d1c8c new_whale w_d573a68 w_5d3f521',\n",
       " 'w_7c9f76d w_8585e34 w_227e394 new_whale w_30719c8',\n",
       " 'w_66e8565 w_694a615 w_82ba482 w_ccc26ea w_ffa542b',\n",
       " 'w_afcf807 w_1d2d323 w_a1e3bc9 w_396c12b new_whale',\n",
       " 'w_700ebb4 w_f0fe284 w_518a722 w_eccd505 new_whale',\n",
       " 'w_f48451c w_e5978cf w_5a2634c w_d602efb w_f056e82',\n",
       " 'w_4344f5e new_whale w_343f088 w_571cf6d w_8be0240',\n",
       " 'w_297e53a w_fdc6e6d w_db1f3de w_f6c5343 w_9f2cfff',\n",
       " 'w_3fb99a3 new_whale w_80f481f w_9713cc3 w_51052c2',\n",
       " 'w_6dbfd7a w_234713b w_fbf7d73 new_whale w_2a7f00f',\n",
       " 'new_whale w_0c59853 w_72f3685 w_8cee3d3 w_8f4d879',\n",
       " 'w_fec5547 w_8b8dca8 w_5ae831c w_34ecf36 w_88aca21',\n",
       " 'w_20950a9 w_1b2bf0f w_2ba6978 w_ec4bcf9 w_2d7c2dd',\n",
       " 'w_6d80008 w_d44dfdc new_whale w_dba1c08 w_cbda0d3',\n",
       " 'w_789c969 w_9a9a2c8 new_whale w_9eccb4c w_e8e08e6',\n",
       " 'w_05cc23c w_f61b957 w_9ed5f69 w_7707132 new_whale',\n",
       " 'w_10d9667 w_c0e27e9 new_whale w_c63c580 w_b09e884',\n",
       " 'w_af367c3 w_6dbfd7a new_whale w_a689d7a w_249346b',\n",
       " 'w_5bd26de w_107b98e w_0ecda0a w_186d294 new_whale',\n",
       " 'w_88e4537 w_0cfdaa5 w_7c77c5c new_whale w_8e74601',\n",
       " 'w_3a63e33 w_d6c1d80 w_e1f57e7 new_whale w_16df050',\n",
       " 'w_3002b59 new_whale w_3815890 w_8092f18 w_0ce0555',\n",
       " 'w_e3956f5 w_a1a4bb2 new_whale w_d97c490 w_ace2814',\n",
       " 'new_whale w_c5dbf98 w_5585ecf w_3cd4d35 w_88e4537',\n",
       " 'w_0135f5f w_b7b1472 w_71a1a08 w_5510cf3 w_f765256',\n",
       " 'w_f6c5343 w_9884e90 w_ab7c369 new_whale w_c92d4a9',\n",
       " 'w_79843ce w_8bcc197 w_94dcd2b new_whale w_bd25728',\n",
       " 'w_fcdda4c new_whale w_5c028f2 w_939a97b w_191bce3',\n",
       " 'w_8e1cf61 new_whale w_dc651ad w_2d6596f w_bf960fa',\n",
       " 'w_e52ff99 w_16df050 w_7c1435e w_81d1ff9 new_whale',\n",
       " 'w_6cec90c new_whale w_f71de1c w_bd4e5dd w_8d4c9f7',\n",
       " 'w_6c995fd new_whale w_af493e1 w_781654e w_367832c',\n",
       " 'w_22cdc5f w_cb9f118 w_1419d90 new_whale w_d4d46bf',\n",
       " 'w_5b8b487 new_whale w_086f404 w_77d1d8a w_b4841bd',\n",
       " 'w_ef7824d w_da08395 w_69c06ad w_21ae2d7 new_whale',\n",
       " 'w_7dd1222 new_whale w_f4a9357 w_327175f w_f48451c',\n",
       " 'new_whale w_cd4cb49 w_c8d5ad5 w_23a388d w_aabdf8c',\n",
       " 'w_e53bb95 w_e27bbf6 w_d1f35d6 w_f7702cd w_c7e1b12',\n",
       " 'w_c01c1f4 w_14e5fe2 new_whale w_990921b w_f408b56',\n",
       " 'new_whale w_a331c8b w_398323d w_9b3076d w_7aea0b8',\n",
       " 'new_whale w_61ed07a w_a10e633 w_dea042e w_2807565',\n",
       " 'w_a68cf64 w_538259a w_e0f4a42 w_5ae026a w_5b8b487',\n",
       " 'w_59052ad w_0135f5f w_d6aa3f3 w_d980663 w_59088ff',\n",
       " 'w_bfcad53 w_95c7a6f w_030c8b0 w_32de0c5 new_whale',\n",
       " 'w_36ceee6 w_3de579a w_d066f46 w_144ecb6 new_whale',\n",
       " 'w_bfcad53 w_95c7a6f w_030c8b0 new_whale w_9c89384',\n",
       " 'new_whale w_f8b7f05 w_6f7611c w_3fe5d56 w_562b227',\n",
       " 'w_107b98e w_edce644 w_0ecda0a w_fa84489 w_5bd26de',\n",
       " 'w_a3bb16b new_whale w_533f9ea w_9aacaa0 w_f971ecb',\n",
       " 'new_whale w_3e34a5f w_95c7a6f w_6e305f5 w_3e89f09',\n",
       " 'w_659bdb8 new_whale w_653dde1 w_5557f1e w_7d296e9',\n",
       " 'w_4adc1c0 w_c543f7c w_708c3d2 w_27597ff w_90fb95b',\n",
       " 'w_1a7ccaf w_f0fe284 w_ee864e4 w_58bae95 new_whale',\n",
       " 'w_640a24a w_ab41d9b w_502e72f w_c59d4b1 w_af493e1',\n",
       " 'new_whale w_8beb9f1 w_40efb29 w_3a2686e w_8f2943e',\n",
       " 'w_df71327 w_2b069ba w_ab2ac77 w_07cb113 w_38de45d',\n",
       " 'w_a4162d6 new_whale w_0ffa15f w_401f5a1 w_d90a890',\n",
       " 'w_2d6596f w_5597026 new_whale w_54c535e w_16def42',\n",
       " 'w_8f2943e w_a053e56 new_whale w_d0bfef3 w_4661aac',\n",
       " 'w_789c969 new_whale w_ae924d9 w_e1f57e7 w_3a63e33',\n",
       " 'new_whale w_191bce3 w_6d80008 w_2902e69 w_8e5d8ff',\n",
       " 'w_fe8e55c w_9888ce0 new_whale w_b128587 w_55b77ce',\n",
       " 'w_e08506c new_whale w_cb9f118 w_180e241 w_022b708',\n",
       " 'w_b397217 w_9b5109b new_whale w_396c12b w_68df91a',\n",
       " 'w_dd88965 w_9a17ae9 new_whale w_1ecca2d w_5816f86',\n",
       " 'w_81aa796 w_bc511b5 w_a84be0c w_465d9c7 w_409747f',\n",
       " 'w_7c23d73 w_f24a55c w_1af6b9a new_whale w_1afed1e',\n",
       " 'w_a7806ad w_343f088 w_6e999b0 w_1472271 new_whale',\n",
       " 'w_48cc590 w_c0bf8f8 w_1275240 w_f6c5343 w_93fddcb',\n",
       " 'w_fd3e556 w_e73cce3 w_84dbd14 new_whale w_ff6065f',\n",
       " 'w_cf4178c w_ace2814 w_8af65ed w_7cb0e92 new_whale',\n",
       " 'w_a88f2c1 w_54ae8bf new_whale w_f8c22dc w_c55c51d',\n",
       " 'w_3635d34 w_cc1784d new_whale w_00f340d w_64062df',\n",
       " 'w_20eeb29 w_7d46ac3 w_b495218 w_42e0e40 w_935a516',\n",
       " 'w_60ce6fc w_df1f698 new_whale w_32da935 w_6e97ef4',\n",
       " 'new_whale w_23bfd0a w_98a5e5e w_f8dc1cc w_21f1129',\n",
       " 'w_872f131 new_whale w_3b03149 w_de657c1 w_8d4c9f7',\n",
       " 'w_1fc4625 w_38c0639 new_whale w_bca4304 w_1ea8997',\n",
       " 'w_15951db w_193bf22 w_f06439d w_91b96c1 w_af520bd',\n",
       " 'w_5077be0 w_fc83ab4 w_b5f7e89 w_9f13096 w_7aea0b8',\n",
       " 'w_2103ca8 new_whale w_fe59266 w_11d8c70 w_dec9108',\n",
       " 'w_1032fa3 new_whale w_4b143db w_c7a611a w_cf5335b',\n",
       " 'new_whale w_28c330c w_6920fb7 w_6e6e6bc w_95a5270',\n",
       " 'w_993320b w_15a9ec1 w_2c29146 w_dc27ce9 w_6dbfd7a',\n",
       " 'w_c9a569d w_f48451c w_f4a9357 w_1fc42e2 new_whale',\n",
       " 'w_776f336 w_9032a74 new_whale w_8f4d879 w_985d205',\n",
       " 'w_b26e855 w_dea042e w_1082fdc w_84dadae w_782c71d',\n",
       " 'w_67a9841 new_whale w_b9d732d w_00904a7 w_27a6304',\n",
       " 'w_3b3f3ce w_eaa5dbb w_69c06ad new_whale w_55fffeb',\n",
       " 'w_df71327 w_07cb113 w_6f0cbe3 w_1e3caae new_whale',\n",
       " 'w_0a6e626 w_83a4279 w_b421a6a new_whale w_e026c82',\n",
       " 'w_5b463cf w_1af6b9a w_df32eec w_c1d2d7f w_8b84ad0',\n",
       " 'w_a4140a6 w_8eae2c3 w_98a5e5e w_23bfd0a new_whale',\n",
       " 'w_a4a0867 w_b384a00 w_171dc55 w_e897a60 w_700ebb4',\n",
       " 'new_whale w_11d8c70 w_700ebb4 w_e5ab551 w_d7aef56',\n",
       " 'w_27597ff w_8f424c5 w_104d305 w_eacf402 w_3e6cee1',\n",
       " 'w_9fecf9d w_234713b w_c536a4a w_eb3f1ff w_43d8db4',\n",
       " 'w_5babd8c new_whale w_32e705d w_a86c082 w_6f9f759',\n",
       " 'new_whale w_fa3a41f w_10a4e10 w_3de579a w_e3ced4e',\n",
       " 'new_whale w_a47dc2d w_3879fa0 w_7478938 w_2349681',\n",
       " 'w_191bce3 w_ac0f6c4 w_b230d25 new_whale w_ae53e45',\n",
       " 'w_7cb0e92 w_ae8982d w_cbda0d3 w_e3ceadb w_548a268',\n",
       " 'w_cd4cb49 w_506ff2f new_whale w_4516d31 w_ece94e8',\n",
       " 'w_4f6b509 w_5df7574 w_9be308e w_090c801 w_ac80688',\n",
       " 'w_7e56d66 w_d8d0dd9 w_d8cb231 w_4182dba new_whale',\n",
       " 'w_c6b4d61 w_86220e0 w_9ce3725 w_9957aed new_whale',\n",
       " 'w_23a388d w_6f0cbe3 w_68ae353 w_55b77ce w_3c8b9ea',\n",
       " 'w_8cafcf5 w_69c8945 new_whale w_bf7c89a w_4eb6bcc',\n",
       " 'w_343f088 w_c073f96 w_abf193d new_whale w_b30acf8',\n",
       " 'new_whale w_276390d w_3a63e33 w_32eaf54 w_1ccd2a1',\n",
       " 'w_c057db0 new_whale w_25d7e08 w_1029215 w_6cda039',\n",
       " 'w_260a2e7 new_whale w_b128587 w_cbda0d3 w_b71ac68',\n",
       " 'w_0135f5f w_71a1a08 w_d1f35d6 w_031e1a3 w_50193ae',\n",
       " 'w_46c4c49 new_whale w_124a3cb w_6fce84d w_305456a',\n",
       " 'w_12cc52d w_260ff2c new_whale w_263bd97 w_3bf887a',\n",
       " 'w_3f93ee8 new_whale w_a6703dd w_0cbf1b3 w_025911c',\n",
       " 'w_c5260b8 w_6c4a986 new_whale w_9de2647 w_72f3685',\n",
       " 'w_6c777a0 w_6fce84d w_4ab3420 w_46c4c49 new_whale',\n",
       " 'w_f765256 w_71a1a08 w_08630fd w_659bdb8 w_0ee7878',\n",
       " 'w_df86a42 w_5808373 w_f2f7550 new_whale w_33eb301',\n",
       " 'w_143ea92 w_72f3685 w_9de2647 w_c5260b8 new_whale',\n",
       " 'w_ef83760 w_98bac23 new_whale w_3a91b10 w_7348ed5',\n",
       " 'w_ef83760 w_19671ad w_c70fbcd w_4846b27 w_939a97b',\n",
       " 'w_f7cb97d w_2a7603f w_dfc9865 new_whale w_ac90846',\n",
       " 'w_e2530bf w_d8cb231 w_c0f1e04 w_a4fb1d8 w_bef54e9',\n",
       " 'w_94e110b new_whale w_22d96e7 w_bff3c3b w_8b83220',\n",
       " 'w_eb13108 new_whale w_c815410 w_c3c0d22 w_4f6b509',\n",
       " 'w_57aeea3 w_e1f57e7 w_2645f4d w_db86325 w_0bc078c',\n",
       " 'w_007fefa w_cc93694 w_1e85eea w_4130233 w_88e4537',\n",
       " 'w_d76f21b w_ee2a1e0 w_4a8a4c9 w_dc9d8ae w_bd9f354',\n",
       " 'w_decafbd new_whale w_ac0f6c4 w_191bce3 w_c2372df',\n",
       " 'w_6d8b67b new_whale w_692574d w_deedca6 w_801eb08',\n",
       " 'w_25f1a4e new_whale w_0135f5f w_f765256 w_d6f61cb',\n",
       " 'w_69b046b w_2fcfc71 new_whale w_d44dfdc w_b71ac68',\n",
       " 'w_fd3e556 w_f64767d w_a3181a0 new_whale w_6640084',\n",
       " 'w_e6264df w_bb2c919 w_778e474 w_49ce813 w_50e8d58',\n",
       " 'w_0c59853 w_cf5335b w_eaa5dbb w_8f4d879 w_5c57f77',\n",
       " 'w_98d094e new_whale w_0ce0555 w_3815890 w_fa7cd91',\n",
       " 'w_007fefa w_760c469 new_whale w_69b5ace w_fc83ab4',\n",
       " 'w_ae83a65 w_c5bb7bb w_749dffd new_whale w_dea40e2',\n",
       " 'w_456646a w_26c0ffd w_760c469 new_whale w_7e579dd',\n",
       " 'w_5a3e0de w_0b398b2 w_4c62681 w_c0d11da w_1032bb6',\n",
       " 'w_adcaf2a w_921cdae w_2858e46 new_whale w_9ac40d5',\n",
       " 'w_d287825 w_b4a7cd2 new_whale w_0886321 w_c67271f',\n",
       " 'w_c9b4607 w_2349681 w_3879fa0 w_6caff0f w_a47dc2d',\n",
       " 'new_whale w_3f21fed w_52cd115 w_7c9f76d w_d8a47de',\n",
       " 'w_fdc6e6d w_ecb61a0 w_0ac10f3 new_whale w_e99e430',\n",
       " 'w_11ff425 new_whale w_dd837b1 w_f70c302 w_9eab46a',\n",
       " 'w_02aa597 new_whale w_50fd107 w_5d6ba39 w_94e136e',\n",
       " 'w_90edcb6 w_3de579a w_d066f46 w_910831a w_37d2f3a',\n",
       " 'w_13ffdcf w_f71de1c w_ab44c81 new_whale w_8620eca',\n",
       " 'w_9c89384 w_bfcad53 w_95c7a6f new_whale w_b6ad668',\n",
       " 'w_73c0495 new_whale w_60f11fb w_9032a74 w_92c4ea5',\n",
       " 'w_bd06bf9 new_whale w_0a155b9 w_1ca9ab1 w_5a2634c',\n",
       " 'w_82de056 w_6fe3dac new_whale w_022d2f5 w_4f8332a',\n",
       " 'w_4690940 w_b3197c6 w_e5ab551 w_6b2a111 new_whale',\n",
       " 'w_98cc97d new_whale w_f1b016e w_26ba5fd w_ebdc496',\n",
       " 'new_whale w_c2397a4 w_3de579a w_e5ab551 w_10a4e10',\n",
       " 'w_c25d2d1 w_a0fcfc1 w_0ecda0a w_78cfcbf w_8cb5e04',\n",
       " 'w_e709b7d w_1b7eaad w_3881f28 w_ba9804a w_6df47c6',\n",
       " 'w_6f0cbe3 w_b420d45 w_2c94198 w_0cbf1b3 w_15805cd',\n",
       " 'w_d94fa7a w_91ed407 w_6cb0480 new_whale w_b264d2a',\n",
       " 'w_13c715a w_ce66f9a w_bd25728 new_whale w_eae373b',\n",
       " 'w_581ba42 w_e966f36 w_c1d2fbe w_8c8c45a w_6cfa650',\n",
       " 'w_f347709 w_bc6171b w_9660cec new_whale w_e1af623',\n",
       " 'w_4516d31 w_a283c8c w_53b6917 new_whale w_4df6c4b',\n",
       " 'w_7547b9a w_6caa59f w_d0ce152 w_0e0f074 w_7e2eb3d',\n",
       " 'w_3cb4838 w_e01ca20 w_0abdaf4 w_83a4279 w_09c737d',\n",
       " 'w_0a155b9 w_a9304b9 w_5be4e45 w_fccccec new_whale',\n",
       " 'w_e1ffbe2 w_34ecf36 new_whale w_5557f1e w_d8fb98d',\n",
       " 'w_ec0d867 new_whale w_9ddb645 w_8c83452 w_44c1eef',\n",
       " 'w_d980663 w_600bf1b w_488865e w_bbfce38 w_c99807e',\n",
       " 'w_dee8b12 w_73d71d2 new_whale w_5d5c6a6 w_b4fe6b0',\n",
       " 'w_5781883 new_whale w_ab44ae4 w_88bb921 w_d9a3c6e',\n",
       " 'w_1c6465a w_1275240 w_93fddcb w_d8a47de w_f6c5343',\n",
       " 'w_bf33ddf w_fd6a3ad w_a4b73a0 new_whale w_7d34a32',\n",
       " 'w_7aea0b8 new_whale w_72ab123 w_9fc06d4 w_dee8b12',\n",
       " 'w_ae24bd1 w_4182dba w_f2dd08f w_0bd2e46 w_cbd5013',\n",
       " 'w_b3cc7b3 w_bc101a3 w_cf25b84 new_whale w_217fc01',\n",
       " 'w_e99ed06 w_066ac1a new_whale w_fdcaaa8 w_8799716',\n",
       " 'w_a1a0090 w_1032bb6 w_5010896 w_b421a6a new_whale',\n",
       " 'w_acbedef new_whale w_a3e2d0f w_5a2634c w_aee6701',\n",
       " 'w_596f6bc w_335a58c new_whale w_9f30885 w_3879fa0',\n",
       " 'w_ab44ae4 w_bff3c3b w_4516d31 w_8be0240 w_d7aef56',\n",
       " 'w_fa7cd91 new_whale w_4bdd289 w_1b51678 w_0cfae04',\n",
       " 'w_7091e67 new_whale w_c5a7b38 w_89f521e w_b1a3345',\n",
       " 'w_37d2f3a w_72f3685 w_b4396ae new_whale w_f06439d',\n",
       " 'w_fec331a w_cb856e6 w_6caff0f w_c4b02b0 w_67a9841',\n",
       " 'w_67a9841 new_whale w_f86b16b w_32da935 w_412b5ad',\n",
       " 'w_242fb46 w_5ad70f3 new_whale w_64404ac w_e64d9d1',\n",
       " 'w_f0eddab w_d89acf0 new_whale w_eaed433 w_b164c63',\n",
       " 'w_6c2aa5f w_4e00a18 w_115e880 w_778e474 new_whale',\n",
       " 'w_d980663 w_3b71107 w_83d1ab6 new_whale w_c684a38',\n",
       " 'w_2e075b2 w_fc6dd24 new_whale w_6e209a8 w_13aa123',\n",
       " 'w_140a9ac w_e05c1a2 w_e3e617e new_whale w_6b2ecc8',\n",
       " 'w_074a5ba w_a94396f new_whale w_d1f35d6 w_e27bbf6',\n",
       " 'w_867550f w_b7e3a9f w_83e0076 new_whale w_57db059',\n",
       " 'new_whale w_90e9447 w_c16cb2c w_b3ca4b7 w_c190c60',\n",
       " 'w_502e72f w_478d73b w_efc5e07 w_76a45de w_d16eb60',\n",
       " 'w_cf4178c w_f459442 w_a4826eb w_1b00c27 w_122e247',\n",
       " 'new_whale w_77f9c5f w_5045d2c w_1a9e018 w_d0bfef3',\n",
       " 'w_b72cdc1 w_2e69752 w_fc94e17 w_6cda039 new_whale',\n",
       " 'new_whale w_abd9d0b w_8cd5c91 w_502e72f w_ab41d9b',\n",
       " 'w_1f1cee1 w_3250a08 new_whale w_d3b1733 w_4516ff1',\n",
       " 'w_5d67caa w_958b730 new_whale w_65ffd7d w_0b398b2',\n",
       " 'new_whale w_51fc1fc w_ace2814 w_700ebb4 w_f0fe284',\n",
       " 'w_1f7c696 w_bf960fa new_whale w_0cbf1b3 w_f648d33',\n",
       " 'w_6c886f0 w_15fb899 w_2f3badb new_whale w_f793b1f',\n",
       " 'w_6aab519 w_8da30ad w_4640cdc w_7307591 w_15e7de5',\n",
       " 'w_3d88ad4 w_eddd5b4 w_13edc47 new_whale w_91c94ad',\n",
       " 'new_whale w_41dd026 w_b003eb0 w_6332313 w_1d9592f',\n",
       " 'w_090c801 new_whale w_4f9c015 w_6822dbc w_e08506c',\n",
       " 'w_dccbb2e new_whale w_478d73b w_1ea5d96 w_88503f1',\n",
       " 'w_11ff425 new_whale w_dd837b1 w_f70c302 w_ab44ae4',\n",
       " 'w_e54d8f6 new_whale w_343f088 w_17b0d3a w_ae536d6',\n",
       " 'new_whale w_cac9bdb w_798f466 w_19a0b30 w_3108dce',\n",
       " 'w_6caff0f w_2f1488c w_cb856e6 w_ec32fa6 new_whale',\n",
       " 'w_fa7cd91 new_whale w_6568270 w_45a6d4e w_c16cb2c',\n",
       " 'w_581ba42 new_whale w_3f5c708 w_9d86594 w_cc9dfb5',\n",
       " 'w_4c62681 w_32da935 w_07125ed w_1032bb6 w_f86b16b',\n",
       " 'w_e99e430 w_14e5fe2 w_ea4a7db w_c01c1f4 w_488865e',\n",
       " 'new_whale w_a4826eb w_ee57fc5 w_7272aa5 w_4132bb8',\n",
       " 'w_dd88965 w_fdd3687 w_9a17ae9 w_80124ae w_1ecca2d',\n",
       " 'w_439b6cf w_94e110b new_whale w_8230e8f w_bff3c3b',\n",
       " 'w_f6c5343 w_bfecb74 new_whale w_2b1b04e w_c178f34',\n",
       " 'w_0ea7436 w_4a1b689 new_whale w_decafbd w_b89b6bf',\n",
       " 'w_b9264dd w_2c94198 new_whale w_36bbd71 w_f5aadde',\n",
       " 'w_02d138d w_02156b0 w_24ca106 w_8b943ef w_04f5f55',\n",
       " 'w_52196e1 w_c6b4d61 w_9ce3725 w_df1cc01 w_f408b56',\n",
       " 'w_093d284 w_4f717ba w_d875f4d w_13aa123 w_8eae2c3',\n",
       " 'w_6d59878 w_23a388d w_cb4182e w_1ca9ab1 w_bef0a5d',\n",
       " 'w_a6125c4 new_whale w_1de6148 w_c1d2fbe w_954fec8',\n",
       " 'w_50c4067 w_acd217a w_68bb40f w_7e9df91 w_cda8eb8',\n",
       " 'w_c0c5cae w_0f466a5 w_bb2c919 w_0baf946 w_4846b27',\n",
       " 'new_whale w_335bdd1 w_6fe5b8e w_5f5f9ae w_066ac1a',\n",
       " 'w_08eadf6 w_d875f4d w_456646a w_c178056 w_fc6dd24',\n",
       " 'w_3f7d5f5 new_whale w_05b4b0c w_778e474 w_bfcad53',\n",
       " 'w_a4fb1d8 w_f2dd08f w_4182dba w_d5a4a41 new_whale',\n",
       " 'w_3584852 w_3a63e33 w_1f41b98 w_9b5109b new_whale',\n",
       " 'w_101990d new_whale w_9b171a8 w_ee9db93 w_63b91aa',\n",
       " 'new_whale w_39cd182 w_81aa796 w_1788910 w_1f85037',\n",
       " 'w_775504f new_whale w_63b91aa w_16b5050 w_e069b6a',\n",
       " 'w_286d2cc w_d066c0a w_c8bbb43 w_334c489 w_28c330c',\n",
       " 'w_d15dd0b w_cfe7928 w_a79a828 w_3904956 new_whale',\n",
       " 'new_whale w_8443156 w_ef439a1 w_0115c24 w_0db2e26',\n",
       " 'w_58d3dd3 w_2f1488c new_whale w_ad91d77 w_bbfce38',\n",
       " 'w_57546d7 new_whale w_0003639 w_6f74177 w_fccac74',\n",
       " 'w_48872ad w_3bdf2c6 w_a27f93b new_whale w_6c0cdb1',\n",
       " 'w_9cff87c w_538cdf2 new_whale w_ae6ac74 w_e76dcfe',\n",
       " 'w_9d56f22 w_cfeb24b w_4982a49 w_74ada4e w_412b5ad',\n",
       " 'w_7ce08e6 w_c073f96 w_e6d46e4 new_whale w_7348ed5',\n",
       " 'w_2645f4d w_e2372d6 w_518a722 w_193bf22 w_c797292',\n",
       " 'w_4846b27 w_cf8ce56 w_d92b4c4 new_whale w_093ea58',\n",
       " 'w_0a0c768 w_8cfabed w_0745b0e w_b5e6c9c w_a9822dd',\n",
       " 'w_08b0eac w_700ebb4 new_whale w_bc285a6 w_f0fe284',\n",
       " 'w_abee142 new_whale w_0369a5c w_d602efb w_0a155b9',\n",
       " 'w_d0b330d w_d5874a4 new_whale w_23a388d w_3067220',\n",
       " 'w_d066f46 w_2aaa3b5 w_abf193d w_3de579a new_whale',\n",
       " 'w_90a7b56 w_7860ed5 w_030e2cf new_whale w_ff3efba',\n",
       " 'w_92f4498 new_whale w_0a2e1ef w_d3e323d w_8e92662',\n",
       " 'w_fe87282 w_3fb99a3 new_whale w_dc651ad w_ecc8d6c',\n",
       " 'w_95b8b64 w_6f74177 w_2e29743 w_b2a4769 new_whale',\n",
       " 'w_a33ed90 w_e8c5ff0 w_9c68fe8 new_whale w_7b098ce',\n",
       " 'w_2365d55 w_6f0cbe3 w_7aea0b8 w_0cbf1b3 new_whale',\n",
       " 'w_be4f189 w_48aa237 w_6525e6b new_whale w_33696ac',\n",
       " 'w_d853d93 w_81d1ff9 new_whale w_cbd2194 w_8be0240',\n",
       " 'w_0b398b2 w_5a3e0de w_551165a new_whale w_695c604',\n",
       " 'new_whale w_fccccec w_04003e9 w_62e16d6 w_9d56f22',\n",
       " 'w_3d67c3b w_5037cfd w_c5e1472 new_whale w_2b47174',\n",
       " 'w_4e9b3a3 new_whale w_671b041 w_450878a w_6d43e1d',\n",
       " 'w_938ee78 new_whale w_cbb15d2 w_276d61d w_e9cf335',\n",
       " 'w_3de579a w_44a6509 w_37d2f3a w_b4396ae w_72f3685',\n",
       " 'w_f58da65 w_2e4cb98 w_53feb91 w_3b32955 new_whale',\n",
       " 'w_73435d0 w_0f8b8e2 new_whale w_3b15259 w_ef439a1',\n",
       " 'w_4370f94 w_0887d9b w_87e5b68 w_1ca9ab1 w_aee6701',\n",
       " 'new_whale w_3f22dc6 w_43d4a64 w_17b0d3a w_343f088',\n",
       " 'w_8cd5c91 w_0e2a5bd w_b96391f w_efc5e07 w_0c76e03',\n",
       " 'new_whale w_edf43c1 w_fa2ec89 w_049ae2e w_ea7bc89',\n",
       " 'new_whale w_a6703dd w_5bf792a w_76ad1d2 w_04f5f55',\n",
       " 'w_8bc8a32 new_whale w_24c6ff8 w_bd572cf w_6caff0f',\n",
       " 'w_b421a6a w_9a5bb2d new_whale w_e01ca20 w_5010896',\n",
       " 'w_ebdad2e w_e1af623 w_f381082 w_d48dfda w_9712235',\n",
       " 'w_b35b19d w_c734fa4 new_whale w_bd9f354 w_ab44ae4',\n",
       " 'w_58d8bbd w_6e97ef4 w_625e590 new_whale w_5a3e0de',\n",
       " 'w_f971ecb w_a3bb16b new_whale w_f3252ff w_dcc6f42',\n",
       " 'w_ec63b66 new_whale w_53feb91 w_c01c1f4 w_090c801',\n",
       " 'w_ab7c369 w_3eae264 w_27597ff w_90fb95b w_6dbfd7a',\n",
       " 'w_ac33bfe w_da08395 w_640a24a new_whale w_281a8cd',\n",
       " 'w_5d6ba39 w_50fd107 new_whale w_f992eae w_2c3c217',\n",
       " 'new_whale w_614b549 w_692734c w_9b46d56 w_20ad973',\n",
       " 'new_whale w_d287825 w_d8d0dd9 w_038dfc0 w_38e4345',\n",
       " 'w_4562f42 w_a68cf64 w_8d09425 w_086f404 w_2500327',\n",
       " 'new_whale w_f7cd240 w_51fc1fc w_34d7623 w_e11afff',\n",
       " 'w_f5e6213 new_whale w_8041789 w_700ebb4 w_7330627',\n",
       " 'w_dd944b7 w_90c9763 w_8da30ad w_0a155b9 w_3f22dc6',\n",
       " 'w_fa887d3 w_dee1053 new_whale w_ab44ae4 w_e090471',\n",
       " 'w_73d22c4 new_whale w_11ff425 w_cd4cb49 w_ab44ae4',\n",
       " 'w_60795e6 new_whale w_455bc02 w_5cf0e37 w_65f142a',\n",
       " 'w_0cfdaa5 new_whale w_f71de1c w_c875e45 w_df81c5d',\n",
       " 'w_49ee8e0 w_83869d3 new_whale w_46c49e8 w_2c94198',\n",
       " 'w_d6666c9 new_whale w_981baf4 w_50e8d58 w_55b77ce',\n",
       " 'new_whale w_716f64f w_ace2814 w_bff3c3b w_e1f57e7',\n",
       " 'w_bb4f52e new_whale w_80b474e w_bbfce38 w_9c506f6',\n",
       " 'new_whale w_65e0628 w_04c9b23 w_243b654 w_bdb0a25',\n",
       " 'w_ad880b8 new_whale w_80f481f w_d51cb28 w_bff3c3b',\n",
       " 'w_accb0cb w_0b10e7c new_whale w_4fdff73 w_61d48c9',\n",
       " 'w_bb6217a new_whale w_9094c50 w_2f1488c w_d0528f6',\n",
       " 'w_d3baa35 w_1af6b9a new_whale w_9cff87c w_d76f21b',\n",
       " 'w_08753b7 new_whale w_bc733ec w_d6f0be4 w_74ada4e',\n",
       " 'w_9a91c1e w_07d4b0a w_5d5c6a6 w_ea7a364 new_whale',\n",
       " 'w_7f4e31e new_whale w_1d2d323 w_a6eaf8d w_396c12b',\n",
       " 'w_ab10c70 w_cc85af7 w_cbdae16 w_9d95dee new_whale',\n",
       " 'w_04f5f55 w_069c25b w_e99ed06 w_f8b4ea9 w_5bf792a',\n",
       " 'w_ce1bf27 new_whale w_5816f86 w_0e0b65c w_faf5287',\n",
       " 'w_093ea58 new_whale w_13a7d9a w_ce1bf27 w_05b4b0c',\n",
       " 'w_2fc317c new_whale w_bfe6992 w_c073f96 w_f150d99',\n",
       " 'w_24c76d8 w_c8bbb43 w_d066c0a w_0da9a8f new_whale',\n",
       " 'new_whale w_938701c w_f119baa w_18666da w_c684a38',\n",
       " 'w_579e5f0 w_3224f68 new_whale w_e99e430 w_488865e',\n",
       " 'new_whale w_73b6699 w_aa32f70 w_e9e413e w_90c9763',\n",
       " 'w_b035775 w_808d40b new_whale w_cdb8e7f w_7330627',\n",
       " 'w_ff22dd7 w_98f16af w_b27b6c6 w_a3dc2bd w_84dadae',\n",
       " 'w_0fdf741 w_40acf40 w_8c25681 w_afabbbc w_bc677de',\n",
       " 'w_2284d86 w_da443d9 w_0cc0430 w_35b5c5d w_98f16af',\n",
       " 'w_4690940 w_e5ab551 new_whale w_b003eb0 w_3de579a',\n",
       " 'w_af367c3 w_88b3466 new_whale w_d006897 w_ae32f8b',\n",
       " 'w_dd837b1 w_9eab46a new_whale w_94f41dc w_208db25',\n",
       " 'w_d0e6e7d w_a8a52de w_b8b8383 w_3729146 w_f1eb6cd',\n",
       " 'w_b91bcd4 w_4096187 w_9227ca2 new_whale w_8eb9c42',\n",
       " 'w_3057209 w_c56fefc w_ac2c28e new_whale w_91c94ad',\n",
       " 'w_896b139 w_12e7c23 new_whale w_97ba78a w_3584852',\n",
       " 'w_8230e8f new_whale w_2902e69 w_df86a42 w_26aeb61',\n",
       " 'w_cd4cb49 w_4516d31 new_whale w_13edc47 w_d06e2d0',\n",
       " 'w_53feb91 w_3079e26 w_4ff2f4a new_whale w_9ca9776',\n",
       " 'new_whale w_d8de44c w_b7d68af w_92f4498 w_0718183',\n",
       " 'w_8f0c6ed w_f86b16b w_c4b02b0 w_e9605ca w_32da935',\n",
       " 'w_e4ed810 w_fee1e3e w_939423d w_3f21fed new_whale',\n",
       " 'w_b845c2b w_b9d5945 new_whale w_6071978 w_bf33ddf',\n",
       " 'w_9cc2c36 w_3c8f7da w_50fd107 new_whale w_52093cb',\n",
       " 'new_whale w_a7e3d55 w_cfa9fb2 w_ecd734e w_06471d5',\n",
       " 'w_bc65e7f w_dee1053 w_ab44ae4 w_a6ef5a6 w_b4cf4b1',\n",
       " 'w_4d61be5 w_059d9e0 w_14bfbe2 w_615a631 w_ab44ae4',\n",
       " 'w_d9c9d8d w_3079e26 w_53feb91 w_fe03daf w_cff6c83',\n",
       " 'w_dea40e2 w_2c94198 w_7547b9a new_whale w_446a02d',\n",
       " 'w_c06798f w_afb4a42 w_e533679 w_a371235 new_whale',\n",
       " 'w_bc62c27 w_e5978cf new_whale w_e51c0e9 w_ac867fb',\n",
       " 'w_ec32fa6 w_6caff0f w_a6a732d w_a47dc2d w_e66ac81',\n",
       " 'w_7d09141 new_whale w_455bc02 w_ae8982d w_ab44ae4',\n",
       " 'w_0bd2e46 w_b23555d new_whale w_6339d14 w_b8e1687',\n",
       " 'w_7058149 w_9adf29b w_1788910 new_whale w_75fc10c',\n",
       " 'w_535448f new_whale w_93ef4fa w_ad880b8 w_6aa9d4e',\n",
       " 'w_13a7d9a w_78e229f w_4b609e1 w_6f0cbe3 new_whale',\n",
       " 'w_9b5109b w_0369a5c new_whale w_396c12b w_31b5dd8',\n",
       " 'new_whale w_11ff425 w_dd837b1 w_8193215 w_9eab46a',\n",
       " 'w_8d8d839 new_whale w_6f7611c w_1b0c4b7 w_065ee1b',\n",
       " 'w_e1f57e7 new_whale w_3a63e33 w_7c26ef7 w_16df050',\n",
       " 'w_efa6b4a new_whale w_c55c51d w_87e5b68 w_0887d9b',\n",
       " 'w_207f153 w_51b4749 new_whale w_778e474 w_9769f0b',\n",
       " 'w_5d1b1a7 new_whale w_1ab568f w_cd9dec7 w_1d6a9f7',\n",
       " 'w_bc733ec w_acbedef w_0ee1b0f w_207f153 new_whale',\n",
       " 'w_51fc1fc w_bc285a6 w_518a722 w_f0fe284 new_whale',\n",
       " 'w_563d4b1 w_bf7c89a w_a92e68e w_32b01d7 new_whale',\n",
       " 'w_b5cf062 w_b39cbc8 w_7c1435e new_whale w_28c330c',\n",
       " 'w_e65051b w_4c206e7 new_whale w_811c3a3 w_e99ed06',\n",
       " 'w_bca4304 w_3729146 w_3c254c1 w_fb52b93 w_38c0639',\n",
       " 'w_4c01b28 w_d6c1d80 w_44a6509 w_abf193d w_e798363',\n",
       " 'w_1ecca2d w_fd3a3f0 w_36828b8 new_whale w_3c4b1d0',\n",
       " 'new_whale w_98a87a6 w_5f6f211 w_35614d4 w_ea6a7fe',\n",
       " 'w_72f3685 new_whale w_37d2f3a w_88adb3a w_de3713f',\n",
       " 'w_9a17ae9 w_5816f86 w_dd88965 w_ca7089b new_whale',\n",
       " 'w_3c33b23 w_7b098ce w_4982a49 new_whale w_1f1cee1',\n",
       " 'w_0f1cf57 w_0da9a8f w_28c330c w_3209f9e w_f9bffb5',\n",
       " 'w_8bcc197 new_whale w_c8e2df4 w_c0b01ea w_4f3cebf',\n",
       " 'w_76a45de w_ebdad2e w_2b47174 w_b8f1666 w_3d67c3b',\n",
       " 'w_1ef6c12 w_5b8805a w_180e241 w_b938e96 w_a16169d',\n",
       " 'w_b7babc0 w_3bf887a w_12cc52d w_263bd97 w_c0d11da',\n",
       " 'w_73e5b74 new_whale w_d24ae04 w_8e92662 w_d3e323d',\n",
       " 'w_307e5e9 w_122e247 new_whale w_7cb0e92 w_faad3f8',\n",
       " 'w_3de579a w_b4396ae w_6920fb7 w_90edcb6 w_37d2f3a',\n",
       " 'w_59052ad w_0135f5f w_600bf1b w_9c506f6 new_whale',\n",
       " 'w_bef2a3f w_e3c4772 w_f9112ac new_whale w_6cb1ff1',\n",
       " 'new_whale w_456646a w_23852a0 w_ac97190 w_d6a2ad8',\n",
       " 'w_778e474 w_671b041 w_e25b062 w_3155d04 w_16dfac7',\n",
       " 'w_2c3f556 w_fa84489 new_whale w_96985c1 w_e026c82',\n",
       " 'w_8c25681 new_whale w_a8d89df w_51e0e04 w_6640084',\n",
       " 'w_15805cd new_whale w_2365d55 w_0a619af w_6f0cbe3',\n",
       " 'w_72fc6e4 new_whale w_71f5c74 w_e36b021 w_343f088',\n",
       " 'w_9c506f6 new_whale w_db0c7fd w_d494351 w_488865e',\n",
       " 'w_ae393cd w_ce352a8 new_whale w_c0c5cae w_80124ae',\n",
       " 'new_whale w_54ae8bf w_fcc8a87 w_1472271 w_a88f2c1',\n",
       " 'w_bfecb74 new_whale w_69a58b2 w_2c2e6b9 w_1d0830e',\n",
       " 'w_104d305 w_22b8752 w_3e6cee1 w_27597ff w_2df85e7',\n",
       " 'new_whale w_eaf9662 w_16df050 w_cbd2194 w_568e9fd',\n",
       " 'w_fd3e556 w_aeabde9 w_94a7669 new_whale w_f773fbe',\n",
       " 'w_535448f w_d7aef56 w_f3d2e31 w_bff3c3b new_whale',\n",
       " 'new_whale w_8be8406 w_61e4248 w_8092f18 w_d588fb4',\n",
       " 'w_0dc84fd w_eeea781 new_whale w_df71327 w_a165159',\n",
       " 'w_67afc89 w_7150989 w_14ece76 w_972e51e w_564a34b',\n",
       " 'new_whale w_0135f5f w_ad91d77 w_1d532b4 w_85222f9',\n",
       " 'w_98d094e new_whale w_dc23fbc w_f71100b w_fa7cd91',\n",
       " 'w_778e474 w_f3a12bc w_5116e7e w_1f1cee1 w_e25b062',\n",
       " 'w_df86a42 w_6ccf9c6 new_whale w_fae4be5 w_2902e69',\n",
       " 'w_73d6671 w_0a1fcd6 w_3bfa4f8 w_43312c4 w_b17471a',\n",
       " 'w_62b631e w_c7e1b12 w_1b5fd1b w_e66ced8 w_02c7e9d',\n",
       " 'w_6c3ec2d new_whale w_7737f65 w_214e081 w_2ac6611',\n",
       " 'w_23a388d w_3b03149 new_whale w_91cc02c w_bef0a5d',\n",
       " 'new_whale w_28c330c w_16df050 w_da8166c w_37e61c2',\n",
       " 'w_57a546c w_fc83ab4 w_d8de44c w_33979b1 new_whale',\n",
       " 'w_57abc0f new_whale w_b3afb40 w_6f9f759 w_fe54484',\n",
       " 'new_whale w_2644b11 w_c2de607 w_5a49beb w_cd4cb49',\n",
       " 'w_1ea5d96 w_b23555d w_9712235 w_88b981e w_825910b',\n",
       " 'w_950c471 w_89e559b w_5f31117 new_whale w_c1b90d1',\n",
       " 'w_d9c9d8d w_f408b56 new_whale w_df1cc01 w_445a265',\n",
       " 'w_3f21fed w_d8a47de w_4b4f9b7 w_d0fd41c w_068baa8',\n",
       " 'w_148921b w_c200e52 w_9ddb645 w_57e4b21 new_whale',\n",
       " 'w_7d4d7cd w_57acd97 w_bd488f9 new_whale w_c5ed5fe',\n",
       " 'new_whale w_e9605ca w_f86b16b w_c4b02b0 w_8092f18',\n",
       " 'w_6452aca w_3b970db new_whale w_ddb514d w_6da5a82',\n",
       " 'w_75c7a82 w_a190a88 new_whale w_71dfca3 w_533fe25',\n",
       " 'w_4c218b5 w_4801beb w_cdb8e7f w_9d6c63d new_whale',\n",
       " 'w_18a06fd w_0d43823 new_whale w_c1efffb w_b8c537a',\n",
       " 'w_82d886f w_e4502b3 w_82d50c5 w_99d3313 w_2ef9c36',\n",
       " 'w_4c206e7 new_whale w_9a1a810 w_fd6a3ad w_e99ed06',\n",
       " 'w_b953028 w_d8b4a5d new_whale w_1f0cf0a w_2c3768d',\n",
       " 'w_5252dc7 w_a113b33 new_whale w_731fe92 w_a26cf66',\n",
       " 'w_d76f21b w_d83d524 w_99e43ae w_286d2cc w_8fad4d2',\n",
       " 'new_whale w_8443156 w_6df2400 w_9b1ee8e w_a08f3cd',\n",
       " 'w_50707c4 new_whale w_bff3c3b w_e1f57e7 w_264c2e1',\n",
       " 'w_a94ea72 w_f7702cd w_031e1a3 w_7ea6bf2 w_efbdcbc',\n",
       " 'w_1daae48 w_1d532b4 w_0135f5f w_5a8902d w_c2a1bc4',\n",
       " 'w_e0ca4f5 w_88bb921 new_whale w_a6ef5a6 w_714f89f',\n",
       " 'w_b3cc7b3 w_6fce84d w_3079e26 w_c16cb2c w_26db444',\n",
       " 'w_d76f21b w_ee2a1e0 w_6ee9b69 new_whale w_52464e6',\n",
       " 'w_2644b11 w_f91aeec w_c2de607 w_91c94ad new_whale',\n",
       " 'w_c3d896a new_whale w_71f5c74 w_d0475b2 w_83cc0ec',\n",
       " 'w_19a0b30 w_5597026 new_whale w_8e04a78 w_94e110b',\n",
       " 'w_65cc057 new_whale w_2c3c217 w_9713cc3 w_7069d70',\n",
       " 'w_0d7b050 new_whale w_f0eddab w_6b1d160 w_19f507e',\n",
       " 'w_da443d9 w_c7d8935 w_84dadae w_41eb3b2 w_633ead1',\n",
       " 'w_030e2cf w_7860ed5 w_df27de9 new_whale w_0ca546b',\n",
       " 'w_6f7667a w_28a16b0 w_535448f w_a9a4878 w_fd906cc',\n",
       " 'w_88503f1 w_9660cec w_76a45de w_076bb5a w_074530d',\n",
       " 'w_80b474e w_3f5c708 w_e1ffbe2 w_836581c new_whale',\n",
       " 'w_dc651ad w_8e1cf61 w_f66ec54 new_whale w_2d6596f',\n",
       " 'w_31b5dd8 w_7c1435e w_94f41dc w_ab44ae4 new_whale',\n",
       " 'w_45e277d w_8ea0c7d w_accb0cb new_whale w_c9b4607',\n",
       " 'w_91cc02c w_23bfd0a new_whale w_b420d45 w_a5b6ea7',\n",
       " 'w_4bf625b new_whale w_7c26ef7 w_f1ec368 w_639867f',\n",
       " 'w_2e54183 w_bb9497e w_52a5d92 w_d3b46e7 w_d5d084c',\n",
       " 'w_9525c07 w_705e466 new_whale w_773a8fd w_5ae026a',\n",
       " 'w_84f9ab0 w_91b678a w_8b86b95 new_whale w_d980663',\n",
       " 'w_3bc4a4f new_whale w_650f587 w_26923f7 w_e0ed636',\n",
       " 'w_7f1f285 new_whale w_61e136d w_9f9f220 w_e29ed08',\n",
       " 'w_5650932 w_67b3af9 new_whale w_7b41bf7 w_9ef6147',\n",
       " 'w_cad4b47 w_0baf946 w_1f6de0b w_df27de9 new_whale',\n",
       " 'w_1bd2d91 w_3949bd6 w_ab2ac77 w_b9c99cc new_whale',\n",
       " 'w_d063697 new_whale w_a4d8d43 w_a6a1bea w_cb88c1b',\n",
       " 'new_whale w_6339d14 w_14f15a0 w_97ba78a w_f382f59',\n",
       " 'w_cdc4a40 w_f48451c w_533f9ea new_whale w_0f8b8e2',\n",
       " 'w_7e0659e w_fd57399 new_whale w_86d0c34 w_73bfe11',\n",
       " 'w_e6d5621 w_2745292 w_3fe2251 w_5665c80 w_09c737d',\n",
       " 'w_d9c9d8d w_527aa02 w_53feb91 w_46c4c49 new_whale',\n",
       " 'new_whale w_6e0e2ae w_3404de1 w_cfcace7 w_2b39f31',\n",
       " 'w_43f3361 w_be5615a w_8092ea7 w_dee1053 new_whale',\n",
       " 'w_20c0bc0 w_6f0cbe3 new_whale w_8eae2c3 w_bece5a4',\n",
       " 'w_3b970db w_b09e884 new_whale w_628a326 w_9236fb3',\n",
       " 'w_db68456 new_whale w_94a7669 w_fd3e556 w_c6b4d61',\n",
       " 'w_2ec0a71 w_e21b629 new_whale w_59052ad w_d6aa3f3',\n",
       " 'w_af367c3 w_88b3466 w_73b2fe3 w_46ba1ce w_0513962',\n",
       " 'new_whale w_3dc1e42 w_f0e9af7 w_0b3e0e6 w_60cf87c',\n",
       " 'w_4e13e82 w_e4d305b w_f24a55c new_whale w_d10d0c5',\n",
       " 'w_6684eea w_5f0af76 new_whale w_0ee1b0f w_752ffa2',\n",
       " 'w_d0a7600 w_b82bea9 w_8d09425 w_4562f42 w_cc849d4',\n",
       " 'w_218fe4a w_9f98ee1 w_939423d w_6cda039 w_9573686',\n",
       " 'w_5be4e45 w_89f6097 w_700ebb4 w_16df050 new_whale',\n",
       " 'w_f0ba4a2 w_90fb95b w_bc7de9f w_f75dc98 new_whale',\n",
       " 'w_2a946f2 w_ce16eea w_1082fdc w_b96391f w_e7699fa',\n",
       " 'w_234713b w_f6c5343 w_bf844e6 new_whale w_551165a',\n",
       " 'w_966f46a w_cf8cd88 w_05bf34e w_5390260 w_69c06ad',\n",
       " 'w_d1e0f06 w_2284d86 w_633ead1 w_b27b6c6 w_2ad05e9',\n",
       " 'w_7e2eb3d new_whale w_9e020d1 w_c6c89db w_75b6e81',\n",
       " 'w_faf5287 w_742f7f5 w_cc1784d w_b9c99cc new_whale',\n",
       " 'w_a6eaf8d w_f971ecb new_whale w_8f1069a w_02d5c46',\n",
       " 'new_whale w_2a6d5ee w_c63fd83 w_0cbf1b3 w_3de9056',\n",
       " 'w_8c83452 new_whale w_12fe3a8 w_ba77e9c w_32de0c5',\n",
       " 'w_47d86e8 w_fbf7d73 w_f6c5343 w_234713b w_e1c796a',\n",
       " 'w_1693b27 w_7a97301 new_whale w_be6e58a w_bff3c3b',\n",
       " 'w_f75ed58 w_27597ff w_4adc1c0 new_whale w_28a16b0',\n",
       " 'new_whale w_343f088 w_9b1ee8e w_8443156 w_371d32d',\n",
       " 'w_edce644 w_a059841 w_8003858 w_107b98e new_whale',\n",
       " 'w_853aa18 w_faf5287 w_d405854 w_7e2eb3d w_1834b49',\n",
       " 'w_5a2634c w_a9304b9 new_whale w_17b0d3a w_89f6097',\n",
       " 'w_e090471 w_ee2a1e0 w_d76f21b w_6755824 w_286d2cc',\n",
       " 'w_b311fb6 w_a5b6ea7 w_98a5e5e w_c89981f w_2f94559',\n",
       " 'w_f66ec54 w_be5615a w_352445a w_714f89f w_8e1cf61',\n",
       " 'w_f408b56 w_6b1d160 w_937830e w_ae32f8b w_2b4b82e',\n",
       " 'w_91b96c1 w_d6907f5 w_fec4ddf new_whale w_2645f4d',\n",
       " 'w_b420d45 w_21666ad w_365b7ad new_whale w_5d5c6a6',\n",
       " 'w_57acd97 w_6555d06 w_8eb9c42 w_7a427f2 w_08d439c',\n",
       " 'w_dd88965 w_1ecca2d w_13a7d9a w_6f0cbe3 w_2365d55',\n",
       " 'w_faad3f8 new_whale w_65f142a w_1b6f6dc w_0c76541',\n",
       " 'w_6fe5b8e w_4e8ae1d w_cd4cb49 new_whale w_0db2e26',\n",
       " 'new_whale w_9800d65 w_2c94198 w_b9e5911 w_5d5c6a6',\n",
       " 'w_10f67bb w_9884e90 w_e1c5b57 w_ab7c369 w_8739af5',\n",
       " 'w_a743e09 new_whale w_1af6b9a w_7fcf284 w_7c1435e',\n",
       " 'w_51e7506 new_whale w_cd6743e w_f009245 w_ab44ae4',\n",
       " 'w_92eaff4 w_16c264e w_2926c77 w_a61a47c w_98f16af',\n",
       " 'w_456646a w_d875f4d new_whale w_66dd189 w_c178056',\n",
       " 'w_65a1bfa w_30f2f0f w_9be7408 w_9b565fa w_d658a66',\n",
       " 'w_f7cd240 w_bff3c3b w_41d24c6 new_whale w_6c0cdb1',\n",
       " 'w_53276a1 w_b9c99cc w_ab2ac77 w_745ee82 new_whale',\n",
       " 'w_099bcbc w_bf41c21 w_4b1a9b1 w_fc6dd24 new_whale',\n",
       " 'w_456646a new_whale w_28cb717 w_e73d9a5 w_9f13096',\n",
       " 'w_d066f46 w_910831a w_29af733 w_b2bc537 w_801eb08',\n",
       " 'new_whale w_0f73f48 w_3fb99a3 w_6aab519 w_48a6027',\n",
       " 'w_8b61e65 w_78ca251 w_b3c3fa5 new_whale w_a31ead9',\n",
       " 'w_7d44896 new_whale w_3a2686e w_d4c30a9 w_396c12b',\n",
       " 'w_96c35cc w_99b7ba2 w_9be7408 w_c4e658b new_whale',\n",
       " 'w_3de579a w_2aaa3b5 new_whale w_b4396ae w_d066f46',\n",
       " 'w_ec98537 w_45a0a22 w_3c254c1 w_e8b82f6 w_f10d0eb',\n",
       " 'w_c200e52 w_861e504 w_bd26110 w_148921b w_3949bd6',\n",
       " 'w_9ba6731 w_37d2f3a w_72f3685 new_whale w_af520bd',\n",
       " 'w_60cf87c new_whale w_b3afb40 w_b2e75dc w_d0fd41c',\n",
       " 'w_ee2326a new_whale w_8be0240 w_416168a w_f9b13d2',\n",
       " 'w_da16ee8 new_whale w_f276da3 w_d9f8641 w_a8b0ec1',\n",
       " 'w_e5d087b w_025911c w_24ca106 w_dd88965 new_whale',\n",
       " 'w_90c9763 new_whale w_e732406 w_dbf6385 w_16def42',\n",
       " 'w_861e504 w_99b7ba2 new_whale w_a8c2847 w_2d1d67a',\n",
       " 'w_329ec8b w_4132bb8 w_4669e6a w_351a377 new_whale',\n",
       " 'new_whale w_f1b016e w_ebdc496 w_263fcb0 w_587753f',\n",
       " 'w_d15d8c5 w_e5ab551 new_whale w_4690940 w_17a4a41',\n",
       " 'w_c5260b8 w_ec64e27 w_95a5270 w_8a1786f w_a190a88',\n",
       " 'w_ab2ac77 w_2e21094 w_c1efffb w_fd3e556 w_e08506c',\n",
       " 'w_dccbb2e w_d16eb60 new_whale w_a10e633 w_1f7e291',\n",
       " 'w_ec4bcf9 w_20950a9 w_5ff2049 w_b7babc0 w_08630fd',\n",
       " 'w_0369a5c w_e6450bc new_whale w_f78a4b1 w_4516d31',\n",
       " 'w_c59d924 w_ff5fc91 w_ab44ae4 w_e090471 w_de1dc14',\n",
       " 'w_274d994 new_whale w_7677b27 w_3de579a w_9db1fb1',\n",
       " 'w_16b7fec new_whale w_c8901c6 w_80d945b w_262ec5b',\n",
       " 'w_c1e1867 w_be5ee58 w_aaf3463 w_281a8cd w_b23555d',\n",
       " 'new_whale w_e8b82f6 w_ec98537 w_8b3a8b3 w_f10d0eb',\n",
       " 'w_0f1cf57 w_60aa749 w_bc285a6 new_whale w_a2158b8',\n",
       " 'new_whale w_955bfe2 w_5831e13 w_50fd107 w_73b6699',\n",
       " 'w_b53bfb7 w_97ba78a w_fe9eac7 w_ae7887b new_whale',\n",
       " 'w_0823d50 w_fdf618d w_b5e6c9c w_1788910 w_9ece6cb',\n",
       " 'w_752ffa2 w_1b0db58 new_whale w_75f6ffa w_19f507e',\n",
       " 'w_f10d0eb w_20eeb29 w_640a24a w_ce16eea w_c20b4e0',\n",
       " 'w_b9c99cc w_e01ca20 w_b423e9b w_02ff6d6 w_a059841',\n",
       " 'w_fa7cd91 new_whale w_16a13bb w_b9e5911 w_71b9a85',\n",
       " 'w_7e2eb3d new_whale w_9e020d1 w_b9d5945 w_18934ab',\n",
       " 'w_6a0a4c8 new_whale w_8affab2 w_6d8fad3 w_f4a9357',\n",
       " 'w_9037ac5 new_whale w_7250aef w_0cbf1b3 w_1104cca',\n",
       " 'w_6beaa7d w_1b0db58 new_whale w_0d7b050 w_6b1d160',\n",
       " 'w_1b3c3a4 new_whale w_e210cb5 w_8092f18 w_bef0a5d',\n",
       " 'w_e0a42ad w_d947e85 new_whale w_91f13fe w_ae32f8b',\n",
       " 'new_whale w_9b1ee8e w_d0bfef3 w_533f9ea w_c073f96',\n",
       " 'w_0cbf1b3 w_aa0bd3b w_3d56b7c new_whale w_fdd3687',\n",
       " 'w_4690940 w_e5ab551 new_whale w_b3197c6 w_3de579a',\n",
       " 'w_564a34b w_972e51e new_whale w_bdea26c w_27b7295',\n",
       " 'w_0bc078c w_0182687 w_63386cd w_1f41b98 w_e568f47',\n",
       " 'w_bfe77d0 w_5df7574 w_a8ebc69 w_065ee1b w_b128587',\n",
       " 'w_e8b5980 w_c2397a4 new_whale w_163b2b8 w_185bc11',\n",
       " 'w_8eb9c42 w_9d95dee w_177d88e w_deda5f7 w_08d439c',\n",
       " 'w_cd4cb49 w_13edc47 w_d9a3c6e w_eddd5b4 new_whale',\n",
       " 'w_b9e5911 new_whale w_9a91c1e w_5d5c6a6 w_a6a1bea',\n",
       " 'w_ffa542b w_eee296c new_whale w_2ca9282 w_82ba482',\n",
       " 'new_whale w_8cfabed w_bc5dbf9 w_cdeac94 w_902d8ef',\n",
       " 'new_whale w_64055b4 w_d1b3a00 w_aa585b1 w_41dd026',\n",
       " 'w_d9f8641 new_whale w_db68456 w_e73cce3 w_efc261b',\n",
       " 'w_fccac74 w_3de579a w_c7e2a65 w_ee864e4 new_whale',\n",
       " 'w_e6264df new_whale w_68ed1f9 w_66168f1 w_7c5fa3c',\n",
       " 'w_6bab2bd new_whale w_d5d111d w_eced610 w_728c615',\n",
       " 'new_whale w_83e8a3e w_4eb128b w_b1dbfd3 w_0cfdaa5',\n",
       " 'w_2745292 w_5665c80 new_whale w_b9264dd w_09c737d',\n",
       " 'w_207f153 new_whale w_51b4749 w_7b098ce w_0ee1b0f',\n",
       " 'w_96c35cc w_9697236 w_27597ff w_af367c3 w_90fb95b',\n",
       " 'w_62c78f3 w_9b69214 w_62bedea new_whale w_32838db',\n",
       " 'w_27597ff w_3e6cee1 w_8b5a2e4 w_6cca536 w_af367c3',\n",
       " 'w_8cfabed w_7e56d66 w_b5e6c9c w_0a0c768 new_whale',\n",
       " 'w_a9a4878 w_bc7de9f w_708c3d2 w_9d86594 w_27597ff',\n",
       " 'w_b5e6c80 w_e897a60 w_3de579a w_09de1a5 new_whale',\n",
       " 'w_f48451c w_1afed1e w_13edc47 w_16f4e1e w_cb50f6e',\n",
       " 'w_74c924a w_c5bb7bb w_d573a68 w_ae8bd64 w_d609d41',\n",
       " 'w_90abfeb new_whale w_56cb095 w_eee296c w_ccf3551',\n",
       " 'w_b39aff5 w_c6c89db w_d405854 w_a41147a w_7af5b09',\n",
       " 'w_6172f4a w_118fad5 w_a0fcfc1 w_7d458aa w_0b10e7c',\n",
       " 'w_48619b3 new_whale w_e4ae199 w_ae8982d w_6d80008',\n",
       " 'w_f7234f1 w_394f053 w_2f8de4f new_whale w_759b919',\n",
       " 'new_whale w_c8e2df4 w_8bcc197 w_4f3cebf w_f6e5311',\n",
       " 'w_b938e96 w_12cc52d w_5b8805a w_20950a9 new_whale',\n",
       " 'w_9cff87c w_4524517 w_9f9f220 new_whale w_f0663e5',\n",
       " 'w_538259a w_da577dd w_92eaff4 w_5b8b487 w_e4502b3',\n",
       " 'new_whale w_b9d5945 w_edce644 w_d3cb902 w_5816f86',\n",
       " 'w_0fb38fe new_whale w_a54ea89 w_9da1811 w_e8c5ff0',\n",
       " 'w_9712235 w_f0184c0 w_ac2df91 w_37bc202 w_6cb7724',\n",
       " 'new_whale w_782c71d w_8f4d879 w_9b9602c w_8cfabed',\n",
       " 'w_5c57f77 w_cf5335b w_0c59853 w_f0663e5 w_8f4d879',\n",
       " 'w_a046389 w_d8b5bb4 w_b128587 new_whale w_1e85eea',\n",
       " 'w_67b3af9 w_8b86b95 new_whale w_f9a9dec w_5650932',\n",
       " 'w_b8ee123 w_3d72a96 w_515bd01 w_3209f9e w_deedca6',\n",
       " 'w_fbc7895 w_c536a4a new_whale w_3eae264 w_27597ff',\n",
       " 'w_fbc7895 w_263bd97 w_3eae264 w_00904a7 w_eba33fb',\n",
       " 'new_whale w_0ac1b5f w_939423d w_c01c1f4 w_fdc6e6d',\n",
       " 'w_18aafe8 new_whale w_b805777 w_16dba74 w_944ac4f',\n",
       " 'w_97f4b38 new_whale w_04d4568 w_3283995 w_3de579a',\n",
       " 'w_b2bc0c9 w_b5e13cd w_939423d w_6cfa650 new_whale',\n",
       " 'w_85b3564 w_efaba3b w_3ebfe7a new_whale w_0abdaf4',\n",
       " 'w_be4f189 new_whale w_fa2ec89 w_b2606f3 w_cb593df',\n",
       " 'new_whale w_565d73a w_bfae26b w_cb0aaf0 w_9712235',\n",
       " 'w_9c68fe8 w_f546938 w_b3cc7b3 w_2ff0834 new_whale',\n",
       " 'w_e906edd w_c6b4d61 w_c98aaad new_whale w_97d60b9',\n",
       " 'w_8d9d59a w_8b86b95 new_whale w_488865e w_bbfce38',\n",
       " 'w_b8a7ee7 w_a8b34a0 w_0ee7878 w_954fec8 w_08630fd',\n",
       " 'w_9aacaa0 w_533f9ea new_whale w_f971ecb w_4ede58b',\n",
       " 'new_whale w_276d61d w_e8658e7 w_96f893b w_939a97b',\n",
       " 'new_whale w_d83d524 w_648b85e w_2a98962 w_7ae9946',\n",
       " 'w_e4a9205 w_48aa237 w_c4b02b0 new_whale w_69ce621',\n",
       " 'w_27597ff w_104d305 w_eacf402 w_3e6cee1 w_2f6d4a8',\n",
       " 'w_6ffc7a1 w_b4841bd w_651236e w_d6283ba w_835a1eb',\n",
       " 'w_27b7295 new_whale w_b9e5911 w_1759e4e w_b2e75dc',\n",
       " 'new_whale w_0b398b2 w_d588fb4 w_bbfce38 w_0c80c53',\n",
       " 'w_445cc76 w_86ecf59 new_whale w_82479e4 w_249346b',\n",
       " 'w_4ff2f4a w_b3cc7b3 w_550ca18 w_9bde64d new_whale',\n",
       " 'w_a354653 new_whale w_02156b0 w_11d8c70 w_3643be7',\n",
       " 'w_aee1ccf w_5597026 w_79e750b new_whale w_32838db',\n",
       " 'w_0c80c53 w_5557f1e w_ae32f8b w_325f8d2 w_5650932',\n",
       " 'w_eafeccd new_whale w_4214909 w_492d9c5 w_1ee38d5',\n",
       " 'w_2926c77 w_3334d3f w_4562f42 w_92eaff4 w_26301f8',\n",
       " 'w_84dadae w_da443d9 w_e739a48 w_abd9d0b w_2284d86',\n",
       " 'w_7b06e7e new_whale w_5f31117 w_89e559b w_276d61d',\n",
       " 'w_84d832d w_3ff114c w_c25d2d1 w_b9d5945 w_0e0f074',\n",
       " 'w_8b813a5 w_eaa5dbb w_b4396ae w_15951db new_whale',\n",
       " 'w_584e1dc new_whale w_6aa9d4e w_3067220 w_aee1ccf',\n",
       " 'w_227e394 w_a5f74b2 new_whale w_7c9f76d w_57abc0f',\n",
       " 'w_04d4568 w_4d7df64 w_4bf625b new_whale w_f4e69f1',\n",
       " 'w_ab2f0eb w_b7aa4d8 w_2a7f00f w_234713b w_dc27ce9',\n",
       " 'w_57bc12e w_0d1b964 w_bfd6858 w_20eeb29 w_68aa903',\n",
       " 'w_06d2e72 w_6fd2888 new_whale w_914b110 w_4312b77',\n",
       " 'w_52adbfa w_702f2a0 w_cbda0d3 w_5d6ba39 new_whale',\n",
       " 'w_d066f46 w_3de579a w_2aaa3b5 new_whale w_910831a',\n",
       " 'w_04d4568 w_af520bd w_4d7df64 w_f4e69f1 new_whale',\n",
       " 'w_c371f0d w_13c715a w_36b8101 w_8b3a8b3 new_whale',\n",
       " 'w_a3dc2bd w_dea042e w_b26e855 w_902d8ef w_62c76f3',\n",
       " 'new_whale w_91f13fe w_db1b545 w_f05a1df w_46ea040',\n",
       " 'w_26ba5fd w_45473b9 new_whale w_9164e9a w_98cc97d',\n",
       " 'w_da15b9b w_6fce84d new_whale w_53feb91 w_527aa02',\n",
       " 'w_c01c1f4 w_c178f34 new_whale w_fdc6e6d w_aabdf8c',\n",
       " 'w_68eaf36 new_whale w_3b71107 w_df1cc01 w_5650932',\n",
       " 'w_28f572d new_whale w_f9eb808 w_8443156 w_16df050',\n",
       " 'w_d8a47de w_9573686 w_8585e34 w_b5e13cd w_874b395',\n",
       " 'w_6b3b848 w_f3b2948 new_whale w_9da1811 w_7aea0b8',\n",
       " 'w_8d33cf5 w_85b252c w_b9d732d w_4441671 w_54ea24d',\n",
       " 'w_7a3f10d w_ac2c28e new_whale w_0a8a451 w_ab44ae4',\n",
       " 'w_835a1eb w_465d9c7 w_67e9aa8 w_7d4d7cd w_57acd97',\n",
       " 'w_60a54be w_cf35076 new_whale w_748290a w_f62bcba',\n",
       " 'w_60aa749 w_518a722 new_whale w_0c5f019 w_af520bd',\n",
       " 'w_9712235 w_bf2ee79 w_6cb7724 w_cc57ddc w_3a192ed',\n",
       " 'w_439b6cf w_f971ecb new_whale w_26aeb61 w_bff3c3b',\n",
       " 'w_f24a55c w_94c3bf0 w_ccf3551 w_9713c92 new_whale',\n",
       " 'new_whale w_6f7611c w_533f9ea w_bb7d9d5 w_77f9c5f',\n",
       " 'w_f61b957 w_6ebfe7b w_88e4537 new_whale w_e2e33b2',\n",
       " 'w_9fecf9d w_43d8db4 w_7ff9682 w_6946a70 w_066ddc5',\n",
       " 'w_9a17ae9 w_dd88965 w_8c8f8b6 w_3de9056 w_0bc1de9',\n",
       " 'w_25085e0 new_whale w_0ea7436 w_c56fefc w_4e13e82',\n",
       " 'w_61d48c9 w_a113b33 new_whale w_ff2157c w_c200e52',\n",
       " 'w_9e58786 w_bf7c89a new_whale w_16def42 w_cc07b1d',\n",
       " 'w_17a4a41 w_984bb5c new_whale w_b82bea9 w_8d09425',\n",
       " 'w_8c959a6 w_714f89f w_059d9e0 w_d6ca28d w_d869993',\n",
       " 'w_8947728 w_1af6b9a w_da8166c new_whale w_f5e6213',\n",
       " 'w_b4db669 new_whale w_6f0cbe3 w_df71327 w_a8c2847',\n",
       " 'w_5a9abcf w_7c77c5c w_8a6a8d5 new_whale w_7e38d10',\n",
       " 'w_7e2eb3d w_75b6e81 w_e2561dd w_e9ef5e9 w_9e020d1',\n",
       " 'w_74e6a59 w_1af6b9a w_c1715f5 w_d76f21b w_f8bb266',\n",
       " 'w_fe59266 w_985d205 new_whale w_99c4cce w_69c06ad',\n",
       " 'w_b003eb0 new_whale w_f59bb62 w_6332313 w_90336d0',\n",
       " 'w_b9373bc w_d140497 new_whale w_a5c74f4 w_fd906cc',\n",
       " 'w_d3e323d w_8284c0b new_whale w_c073f96 w_343f088',\n",
       " 'w_eced610 w_620dffe w_193bf22 w_ebb99e5 new_whale',\n",
       " 'w_0f8b8e2 new_whale w_23a388d w_ccc26ea w_ef439a1',\n",
       " 'new_whale w_f0cf3f6 w_7a4b2f9 w_b7babc0 w_2d7c2dd',\n",
       " 'new_whale w_9ad3618 w_1ee38d5 w_4214909 w_05b4b0c',\n",
       " 'w_78ab4d4 w_f7ec202 new_whale w_ccc26ea w_c1d2d7f',\n",
       " 'w_c25d2d1 w_b9d5945 new_whale w_87ed7a9 w_0e0f074',\n",
       " 'w_bb2c919 w_4516d31 w_e8658e7 new_whale w_0cbf1b3',\n",
       " 'new_whale w_a32898d w_090c801 w_ec63b66 w_53feb91',\n",
       " 'w_52196e1 w_72fea5e w_6a8bad9 w_4c0a2c9 new_whale',\n",
       " 'w_85923bb w_dced3f2 w_d76f21b w_dfbf100 w_7c1435e',\n",
       " 'w_fd3e556 w_6640084 new_whale w_94a7669 w_f773fbe',\n",
       " 'w_8da30ad new_whale w_0a155b9 w_f971ecb w_ae8982d',\n",
       " 'w_f009245 w_f48451c w_ab44ae4 w_f91aeec w_1006b9c',\n",
       " 'w_13edc47 w_3d88ad4 w_cd4cb49 w_d066c0a new_whale',\n",
       " 'w_cf4178c w_5fbbce9 w_8af65ed w_f459442 new_whale',\n",
       " 'w_2495755 w_82ba482 new_whale w_73435d0 w_d84afa9',\n",
       " 'w_f74a89e w_d980663 w_c2a1bc4 w_c1d2fbe w_e13f4e8',\n",
       " 'new_whale w_02545ea w_ef83760 w_a05181b w_ce44322',\n",
       " 'w_af520bd w_cf5335b w_8f4d879 w_3de579a w_627187b',\n",
       " 'w_bf41c21 w_6e209a8 w_cb622a2 new_whale w_bfcad53',\n",
       " 'w_be4f189 w_60cf87c new_whale w_93fddcb w_14ece76',\n",
       " 'w_e818b1a w_cfae8d8 w_0a619af w_420254e w_26c0ffd',\n",
       " 'w_0f8ab07 w_c56fefc new_whale w_decafbd w_5045d2c',\n",
       " 'w_3976c05 w_d947e85 w_b6e4761 w_62fc862 new_whale',\n",
       " 'w_91037a7 w_b524f96 w_ce16eea w_b07ec5d w_e8c45dd',\n",
       " 'w_c9b4607 w_6b00c91 w_6caff0f w_f2e561e w_ec32fa6',\n",
       " 'w_9fc06d4 w_4cf5e29 w_b421a6a w_14e1334 w_5077be0',\n",
       " 'w_7d46ac3 w_002c810 w_245ac74 w_d0a7600 w_9712235',\n",
       " 'w_1b8f126 w_e07b79f new_whale w_05081a8 w_fec4ddf',\n",
       " 'w_f20333d w_cbda0d3 w_8ed7da3 new_whale w_3bdf2c6',\n",
       " 'w_bc285a6 w_f0fe284 w_700ebb4 w_518a722 w_343f088',\n",
       " 'w_4ea4f59 w_d64a9fa new_whale w_f7ec202 w_1f429ff',\n",
       " 'w_f91aeec new_whale w_f009245 w_0ef790d w_3982e1e',\n",
       " 'w_da011a1 w_34120de new_whale w_13c1b55 w_01fc429',\n",
       " 'w_7ae9946 new_whale w_d9a3c6e w_d3baa35 w_c1d2d7f',\n",
       " 'w_520731e w_f1d2222 new_whale w_73e5b74 w_2495755',\n",
       " 'w_f70c302 w_11ff425 new_whale w_f2f7550 w_c896384',\n",
       " 'w_4fa2f05 w_2c94198 w_69c8945 new_whale w_f28a7a2',\n",
       " 'w_e53ba4a w_1b70f3f w_700ebb4 w_518a722 new_whale',\n",
       " 'w_327175f w_f48451c w_ae73598 w_b953028 w_16fa149',\n",
       " 'w_d6d89ed new_whale w_d9405b3 w_f62bcba w_3309cbd',\n",
       " 'w_4846b27 w_0cbf1b3 w_ae393cd w_f854d6b w_26c0ffd',\n",
       " 'w_17b0d3a w_0369a5c new_whale w_5c742ec w_5a2634c',\n",
       " 'w_db68456 new_whale w_94a7669 w_fd3e556 w_c68b887',\n",
       " 'w_ed50c26 new_whale w_bff3c3b w_22d96e7 w_f7cd240',\n",
       " 'new_whale w_dae7ff7 w_32de0c5 w_bfcad53 w_4a28f21',\n",
       " 'w_f035513 new_whale w_9541441 w_4a1b689 w_40a8585',\n",
       " 'w_16dba74 w_04c9b23 w_3bfa4f8 w_eaa5dbb w_9de2647',\n",
       " 'w_8c25681 w_afabbbc w_bc677de new_whale w_51e0e04',\n",
       " 'w_b44e89d w_c1715f5 w_c8bbb43 w_706e4fb w_1af6b9a',\n",
       " 'w_265ac62 w_8e3a722 w_75648fc w_fbcfe1a w_5f0fcab',\n",
       " 'w_3283995 w_e738be6 w_3de579a w_d6907f5 w_7e56d66',\n",
       " 'w_bb7d9d5 new_whale w_c073f96 w_cc00be9 w_9fe60cd',\n",
       " 'new_whale w_3a91b10 w_ef83760 w_ec8ac93 w_3a34d6f',\n",
       " 'w_da8166c w_1554173 w_0d4a14b w_8041789 new_whale',\n",
       " 'w_3b03149 w_8d4c9f7 new_whale w_5c2c1a1 w_27d6aac',\n",
       " 'w_6a1280c w_2f841ea w_2e54183 w_8340caf w_71dfca3',\n",
       " 'w_96c6613 w_5bef7cb w_ab7c369 new_whale w_a8b0ec1',\n",
       " 'w_2c3768d new_whale w_58ddf90 w_463295b w_d5d084c',\n",
       " 'w_af520bd w_cf5335b w_7e56d66 w_b5e6c9c new_whale',\n",
       " 'w_36bbd71 w_99a26a3 w_d4c24e6 w_cdc4a40 new_whale',\n",
       " 'w_8f4d879 new_whale w_450fccf w_8cfabed w_522e959',\n",
       " 'w_fec5547 w_428ca58 new_whale w_23e1d57 w_e27bbf6',\n",
       " 'w_be776c7 new_whale w_0887d9b w_f953704 w_6d59878',\n",
       " 'w_ddb62c2 w_cac9bdb new_whale w_0ca546b w_5d9f814',\n",
       " 'w_f1d2902 w_b128587 w_760c469 w_f61b957 w_2b388fe',\n",
       " 'w_4e275ed w_ce352a8 new_whale w_6e0a45b w_c5bb7bb',\n",
       " 'w_a2f8488 w_6cda039 new_whale w_3b90ba7 w_1c6465a',\n",
       " 'w_591a2c5 new_whale w_3040ecd w_b9edd7b w_7ba6d48',\n",
       " 'w_c7951e0 w_eaa5dbb w_9de2647 w_55fffeb new_whale',\n",
       " 'w_f2075ef w_92a47eb w_8041789 w_0e2b483 w_97ba78a',\n",
       " 'w_776f336 w_8f4d879 w_da08395 w_09bd7e8 w_450fccf',\n",
       " 'w_d76f21b w_4e13e82 new_whale w_d236b51 w_1af6b9a',\n",
       " 'w_f971ecb w_dcc6f42 w_7cb0e92 new_whale w_68c4ecf',\n",
       " 'w_35863c5 w_dea40e2 w_a41147a new_whale w_c6c89db',\n",
       " 'w_3bdf2c6 w_dfd0ae8 w_48872ad w_3155d04 w_f787e93',\n",
       " 'w_cdc55a8 w_13c9a17 new_whale w_d066c0a w_cd4cb49',\n",
       " 'w_d97c490 w_69b5ace new_whale w_e3956f5 w_22d96e7',\n",
       " 'w_61ed07a new_whale w_c2677ee w_e2d8b09 w_0d98e43',\n",
       " 'w_8e47efa w_7ff9682 w_483947b w_497efb9 w_420254e',\n",
       " 'w_8f38839 w_cf18ab7 w_c1e1867 w_aaf3463 w_45e2fc0',\n",
       " 'w_8f1069a new_whale w_07e0c3c w_e01be7a w_80f481f',\n",
       " 'w_fe12bec w_6568270 new_whale w_4bdd289 w_fa7cd91',\n",
       " 'new_whale w_fb8e059 w_aa0dacc w_db1b545 w_efc0825',\n",
       " 'w_6f9f759 w_a6a1bea w_e71f9c7 new_whale w_7656c1a',\n",
       " 'w_22e82fa w_fbf7d73 new_whale w_234713b w_6822dbc',\n",
       " 'w_ffe8693 w_dcd9088 w_5773c71 w_a08f3cd w_faf5287',\n",
       " 'w_d49d4d7 new_whale w_a8d89df w_f0eddab w_f64767d',\n",
       " 'w_797b34c w_5f31117 w_8ea9f68 new_whale w_ae8982d',\n",
       " 'new_whale w_cd4cb49 w_ab44ae4 w_f48451c w_f009245',\n",
       " 'w_4130233 w_cc93694 new_whale w_9739508 w_aa32f70',\n",
       " 'w_f91aeec w_72288ee w_3e88a50 w_9438119 w_2644b11',\n",
       " 'w_329c19c w_937830e w_66168f1 w_9ff0b7b w_66dd189',\n",
       " 'w_1c55cc3 w_9b69214 w_9a1a810 new_whale w_f8b4ea9',\n",
       " 'w_5485228 w_08630fd w_1de6148 w_066ddc5 w_4c0a2c9',\n",
       " 'w_633ead1 w_92ac4b2 w_38c0639 w_b96391f w_dc7d6d7',\n",
       " 'w_9a91c1e w_fc90f18 w_bc9188e w_0b1e4a6 new_whale',\n",
       " 'w_3207433 w_fc6dd24 w_8eae2c3 new_whale w_13aa123',\n",
       " 'w_378bf61 w_9eb9853 w_7d8c37c new_whale w_f91389a',\n",
       " 'w_f077a03 new_whale w_3499014 w_3aa8e97 w_c684a38',\n",
       " 'w_5535fd3 w_8f4d879 new_whale w_b4396ae w_c0f1e04',\n",
       " 'w_088cda7 w_14bfbe2 new_whale w_0d4a14b w_1554173',\n",
       " 'w_a6de601 new_whale w_5a2634c w_5d6ba39 w_f992eae',\n",
       " 'w_f39c242 new_whale w_1403973 w_71dfca3 w_c8d5ad5',\n",
       " 'w_105b860 w_6c09f7f w_90c9763 w_533f9ea w_f971ecb',\n",
       " 'w_cf9207f new_whale w_b4396ae w_c0f1e04 w_e05c1a2',\n",
       " 'w_9573686 new_whale w_d15dd0b w_939423d w_efc0825',\n",
       " 'w_55a34c7 new_whale w_f7d8d22 w_6a8bad9 w_c4c380f',\n",
       " 'w_954fec8 w_f276da3 w_38c8a8d w_7a4b2f9 w_2d7c2dd',\n",
       " 'w_45e2fc0 w_c2524c4 w_cf18ab7 new_whale w_3ec7fa2',\n",
       " 'w_1c2e409 w_38c0639 w_a88c767 w_3b03245 w_633ead1',\n",
       " 'w_781654e w_21ae2d7 new_whale w_da08395 w_11ac036',\n",
       " 'w_3b03149 new_whale w_7d8c37c w_76ad1d2 w_0f8b8e2',\n",
       " 'w_857cb95 w_edce644 w_8003858 w_a113b33 new_whale',\n",
       " 'w_dea40e2 w_a4140a6 new_whale w_6f0cbe3 w_0abdaf4',\n",
       " 'w_1d55e83 new_whale w_ba3c7af w_57db059 w_edf43c1',\n",
       " 'w_118fad5 w_45c5396 w_a113b33 new_whale w_c815410',\n",
       " 'w_dd4cd65 w_bb56867 w_da577dd w_dfc9865 w_245ac74',\n",
       " 'new_whale w_1a9e018 w_4689352 w_d9a3c6e w_eaa4d20',\n",
       " 'w_d307d9d w_a13c09d new_whale w_1472271 w_5a2634c',\n",
       " 'w_27597ff w_90fb95b w_1247b8c w_d7b6f17 w_f75ed58',\n",
       " 'w_d066c0a new_whale w_e533679 w_c49a22d w_ac2c28e',\n",
       " 'w_91c94ad w_3057209 w_d066c0a w_16f4e1e new_whale',\n",
       " 'w_8ea0c7d new_whale w_a6a732d w_b6ad668 w_4fdff73',\n",
       " 'w_57a546c w_1f6de0b w_c63fd83 w_7860ed5 new_whale',\n",
       " 'w_535448f w_dc651ad w_bf960fa new_whale w_be5615a',\n",
       " 'w_8340caf w_75c7a82 w_71dfca3 w_1d8d7c3 w_a190a88',\n",
       " 'w_d892cd9 w_c563492 w_9eaef8f w_e2e7384 w_1ca9ab1',\n",
       " 'w_b384a00 new_whale w_4bf625b w_700ebb4 w_f0fe284',\n",
       " 'w_4132bb8 new_whale w_ee57fc5 w_73282ec w_7272aa5',\n",
       " 'w_89948b1 w_fc0cb69 new_whale w_26c0ffd w_0118bab',\n",
       " 'w_d573a68 w_a41147a w_c5bb7bb new_whale w_dea40e2',\n",
       " 'w_c073f96 w_982f0b3 w_85923bb w_faad3f8 w_1b6f6dc',\n",
       " 'w_074530d w_88b981e w_be5ee58 w_e8c45dd w_26b24d4',\n",
       " 'w_aabdf8c new_whale w_1c6465a w_691f2f6 w_c01c1f4',\n",
       " 'w_e6450bc w_0369a5c w_89f6097 new_whale w_9b5109b',\n",
       " 'w_6794f1e new_whale w_91037a7 w_89f521e w_fdf618d',\n",
       " 'w_12cc52d w_ccf1342 new_whale w_c87817e w_2856c57',\n",
       " 'w_4a12050 new_whale w_7e56d66 w_7058149 w_5b40032',\n",
       " 'w_0fdf741 w_e1c5b57 w_51fe22f w_0729126 w_df6efd0',\n",
       " ...]"
      ]
     },
     "execution_count": 78,
     "metadata": {},
     "output_type": "execute_result"
    }
   ],
   "source": [
    "top_5_classes"
   ]
  },
  {
   "cell_type": "code",
   "execution_count": 79,
   "metadata": {},
   "outputs": [],
   "source": [
    "sub = pd.DataFrame({'Image': [path.name for path in data.test_ds.x.items]})\n",
    "sub['Id'] = top_5_classes\n",
    "sub.to_csv(f'../submission/{name}.csv', index=False) \n",
    "\n"
   ]
  },
  {
   "cell_type": "code",
   "execution_count": 80,
   "metadata": {},
   "outputs": [
    {
     "data": {
      "text/plain": [
       "0.0899497487437186"
      ]
     },
     "execution_count": 80,
     "metadata": {},
     "output_type": "execute_result"
    }
   ],
   "source": [
    "pd.read_csv(f'../submission/{name}.csv').Id.str.split().apply(lambda x: x[0] == 'new_whale').mean()"
   ]
  },
  {
   "cell_type": "code",
   "execution_count": null,
   "metadata": {},
   "outputs": [],
   "source": [
    "#name = 'Ensembleing_resnet50_renet101_siamene_v1'\n",
    "! kaggle competitions submit -c humpback-whale-identification -f ../submission/martin_siamene_network_15k_training_images.csv -m \"resnet18 arch prob 1 for new whales\""
   ]
  },
  {
   "cell_type": "code",
   "execution_count": null,
   "metadata": {},
   "outputs": [],
   "source": []
  }
 ],
 "metadata": {
  "kernelspec": {
   "display_name": "Python 3",
   "language": "python",
   "name": "python3"
  },
  "language_info": {
   "codemirror_mode": {
    "name": "ipython",
    "version": 3
   },
   "file_extension": ".py",
   "mimetype": "text/x-python",
   "name": "python",
   "nbconvert_exporter": "python",
   "pygments_lexer": "ipython3",
   "version": "3.7.0"
  }
 },
 "nbformat": 4,
 "nbformat_minor": 2
}
