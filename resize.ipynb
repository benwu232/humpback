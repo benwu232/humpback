{
 "cells": [
  {
   "cell_type": "code",
   "execution_count": 1,
   "metadata": {},
   "outputs": [],
   "source": [
    "%matplotlib inline\n",
    "import matplotlib.pyplot as plt\n",
    "from fastai.vision import *\n",
    "from fastai.metrics import accuracy\n",
    "from fastai.basic_data import *\n",
    "from skimage.util import montage\n",
    "import pandas as pd\n",
    "from torch import optim\n",
    "import re\n",
    "from pathlib import Path\n",
    "from functools import partial\n",
    "import multiprocessing\n",
    "\n",
    "from utils import *"
   ]
  },
  {
   "cell_type": "markdown",
   "metadata": {},
   "source": [
    "With simpler model, my CPU cannot keep up with feeding the GPU due to how long resizing takes.\n",
    "\n",
    "Let's resize the images to speed things up."
   ]
  },
  {
   "cell_type": "code",
   "execution_count": 2,
   "metadata": {},
   "outputs": [],
   "source": [
    "SZ = 224\n",
    "n_process = 6"
   ]
  },
  {
   "cell_type": "code",
   "execution_count": 3,
   "metadata": {},
   "outputs": [],
   "source": [
    "train_id = 'train1'\n",
    "test_id = 'test1'\n",
    "\n",
    "PATH = Path('../input')\n",
    "\n",
    "src_train_dir = PATH/train_id\n",
    "src_test_dir = PATH/test_id\n",
    "\n",
    "dst_train_dir = PATH/f'{train_id}_{SZ}'\n",
    "dst_test_dir = PATH/f'{test_id}_{SZ}'"
   ]
  },
  {
   "cell_type": "code",
   "execution_count": 4,
   "metadata": {},
   "outputs": [],
   "source": [
    "from concurrent.futures import ThreadPoolExecutor"
   ]
  },
  {
   "cell_type": "code",
   "execution_count": 5,
   "metadata": {},
   "outputs": [],
   "source": [
    "def resize_img(src, dst_dir):\n",
    "    dst_file = dst_dir/os.path.basename(src)\n",
    "    PIL.Image.open(src).resize((SZ,SZ), resample=PIL.Image.BICUBIC).save(dst_file)"
   ]
  },
  {
   "cell_type": "code",
   "execution_count": 6,
   "metadata": {},
   "outputs": [],
   "source": [
    "def resize_img_dir(src_dir, dst_dir, n_process=4):\n",
    "    dst_dir.mkdir(exist_ok=True)\n",
    "    src_files = list((src_dir).iterdir())\n",
    "    resize_img_to_dst_dir = partial(resize_img, dst_dir=dst_dir)\n",
    "    with multiprocessing.Pool(n_process) as pool:\n",
    "        pool.map(resize_img_to_dst_dir, src_files)"
   ]
  },
  {
   "cell_type": "code",
   "execution_count": 7,
   "metadata": {},
   "outputs": [
    {
     "name": "stdout",
     "output_type": "stream",
     "text": [
      "Resizing train files ...\n",
      "Resizing test files ...\n",
      "CPU times: user 20 ms, sys: 52 ms, total: 72 ms\n",
      "Wall time: 482 ms\n"
     ]
    }
   ],
   "source": [
    "%%time\n",
    "print('Resizing train files ...')\n",
    "resize_img_dir(src_train_dir, dst_train_dir, n_process)\n",
    "print('Resizing test files ...')\n",
    "resize_img_dir(src_test_dir, dst_test_dir, n_process)"
   ]
  },
  {
   "cell_type": "code",
   "execution_count": 8,
   "metadata": {},
   "outputs": [
    {
     "data": {
      "text/plain": [
       "(58, 6)"
      ]
     },
     "execution_count": 8,
     "metadata": {},
     "output_type": "execute_result"
    }
   ],
   "source": [
    "len(list((dst_train_dir).iterdir())), len(list((dst_test_dir).iterdir()))"
   ]
  }
 ],
 "metadata": {
  "kernelspec": {
   "display_name": "Python 3",
   "language": "python",
   "name": "python3"
  },
  "language_info": {
   "codemirror_mode": {
    "name": "ipython",
    "version": 3
   },
   "file_extension": ".py",
   "mimetype": "text/x-python",
   "name": "python",
   "nbconvert_exporter": "python",
   "pygments_lexer": "ipython3",
   "version": "3.7.0"
  }
 },
 "nbformat": 4,
 "nbformat_minor": 2
}
